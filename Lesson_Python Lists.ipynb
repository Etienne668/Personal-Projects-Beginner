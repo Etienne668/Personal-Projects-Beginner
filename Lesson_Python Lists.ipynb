{
 "cells": [
  {
   "cell_type": "markdown",
   "id": "c75cdb38-fca8-4382-af9a-0ba338251797",
   "metadata": {},
   "source": [
    "# What is not a collection"
   ]
  },
  {
   "cell_type": "markdown",
   "id": "25b45ff0-ca1b-47b8-93f3-4e5b141ad2e5",
   "metadata": {},
   "source": [
    "Most of our variables have one value in them - when we put a new value in the variables, the old value is overwritten."
   ]
  },
  {
   "cell_type": "markdown",
   "id": "74f2a171-0b75-4db1-a8f2-f6c3bf66597d",
   "metadata": {},
   "source": [
    "# What is a collection"
   ]
  },
  {
   "cell_type": "markdown",
   "id": "6fb07d41-01ba-44b2-b595-34c49b22631e",
   "metadata": {},
   "source": [
    "- A collection allows to put many values in a single variable\n",
    "- A collection is nice because we can carry all many values around in one convenient.\n",
    "List constant in a variable."
   ]
  },
  {
   "cell_type": "code",
   "execution_count": 4,
   "id": "4f81e9a2-4979-427e-85c0-a664cbe7c02c",
   "metadata": {},
   "outputs": [
    {
     "name": "stdout",
     "output_type": "stream",
     "text": [
      "[1, 'red', 54, [5, 6], 'bluE']\n"
     ]
    }
   ],
   "source": [
    "print([1, 'red', 54, [5, 6], 'bluE'])"
   ]
  },
  {
   "cell_type": "code",
   "execution_count": 6,
   "id": "7aafe18e-9f40-4afd-8de8-cf03b6896b3b",
   "metadata": {},
   "outputs": [
    {
     "name": "stdout",
     "output_type": "stream",
     "text": [
      "5\n",
      "4\n",
      "3\n",
      "2\n",
      "1\n",
      "Blastoff!\n"
     ]
    }
   ],
   "source": [
    "for i in [5, 4, 3, 2, 1]:\n",
    "    print (i)\n",
    "print('Blastoff!')"
   ]
  },
  {
   "cell_type": "code",
   "execution_count": 7,
   "id": "e0fd82ac-bb77-400d-9747-dc59361fa0a7",
   "metadata": {},
   "outputs": [
    {
     "name": "stdout",
     "output_type": "stream",
     "text": [
      "Happy New Year Paul\n",
      "Happy New Year Hugo\n",
      "Happy New Year Louis\n",
      "Done!\n"
     ]
    }
   ],
   "source": [
    "friends = ['Paul', 'Hugo', 'Louis']\n",
    "for friend in friends :\n",
    "    print('Happy New Year', friend)\n",
    "print('Done!')"
   ]
  },
  {
   "cell_type": "code",
   "execution_count": 8,
   "id": "e7e85b03-2c75-4981-80b6-3735321bbf56",
   "metadata": {},
   "outputs": [
    {
     "name": "stdout",
     "output_type": "stream",
     "text": [
      "a\n"
     ]
    }
   ],
   "source": [
    "fruit = 'banana'\n",
    "x = fruit[1]\n",
    "print(x)"
   ]
  },
  {
   "cell_type": "markdown",
   "id": "a119e586-563d-4288-87c5-5bad1396c5e3",
   "metadata": {},
   "source": [
    "# Looking inside lists"
   ]
  },
  {
   "cell_type": "markdown",
   "id": "36573885-ad19-40bc-b7a4-949945598680",
   "metadata": {},
   "source": [
    "Just like strings, we can get at any single element in a list using an index specified in square brackets"
   ]
  },
  {
   "cell_type": "code",
   "execution_count": 11,
   "id": "77a7248b-1465-465f-9f0a-4a8aed988837",
   "metadata": {},
   "outputs": [
    {
     "name": "stdout",
     "output_type": "stream",
     "text": [
      "stacy\n"
     ]
    }
   ],
   "source": [
    "x = ['Glenn', 'stacy']\n",
    "y = x[1]\n",
    "print(y)"
   ]
  },
  {
   "cell_type": "markdown",
   "id": "e35e8a20-d2b9-408d-a4ac-f35d018b5fa2",
   "metadata": {},
   "source": [
    "- <b>Lists are Mutable</b>\n",
    "- Strings are immutable - we cannot change the contents of a string - we must make a new string to make any change\n",
    "- Lists are 'mutable' - we can change an element of a list using the index operator"
   ]
  },
  {
   "cell_type": "code",
   "execution_count": 13,
   "id": "f99dc648-1285-48d4-97a9-072b8c9a339b",
   "metadata": {},
   "outputs": [
    {
     "name": "stdout",
     "output_type": "stream",
     "text": [
      "[2, 43, 5, 67, 81]\n"
     ]
    }
   ],
   "source": [
    "lotto = [2, 43, 5, 67, 81]\n",
    "print(lotto)"
   ]
  },
  {
   "cell_type": "code",
   "execution_count": 14,
   "id": "2cdabe10-fc6e-4fc3-b51a-40979a8674cb",
   "metadata": {},
   "outputs": [
    {
     "name": "stdout",
     "output_type": "stream",
     "text": [
      "[2, 43, 89, 67, 81]\n"
     ]
    }
   ],
   "source": [
    "lotto[2] = 89\n",
    "print(lotto)"
   ]
  },
  {
   "cell_type": "markdown",
   "id": "84ab44ab-face-42c9-b7b7-1d8c35c607a3",
   "metadata": {},
   "source": [
    "<b> How long is a list? </b>\n",
    "- The len() function takes a list as a parameter and returns the number of elements in the list \n",
    "- Actually len() tells us the numberof elements of any set or sequence (such as a string)"
   ]
  },
  {
   "cell_type": "code",
   "execution_count": 15,
   "id": "45d0afe5-3a78-4085-b11d-27011abbaa36",
   "metadata": {},
   "outputs": [
    {
     "name": "stdout",
     "output_type": "stream",
     "text": [
      "9\n"
     ]
    }
   ],
   "source": [
    "greet = 'Hello Bob'\n",
    "print(len(greet))"
   ]
  },
  {
   "cell_type": "code",
   "execution_count": 16,
   "id": "ae3a260f-8812-44cf-b9e1-71e377fee934",
   "metadata": {},
   "outputs": [
    {
     "name": "stdout",
     "output_type": "stream",
     "text": [
      "4\n"
     ]
    }
   ],
   "source": [
    "x = [1, 34, 45, 89]\n",
    "print(len(x))"
   ]
  },
  {
   "cell_type": "markdown",
   "id": "8cefab92-0ffd-403e-be8b-91aa131c14db",
   "metadata": {},
   "source": [
    "<b> Using the range function</b>\n",
    "- The range function returns a list of numbers that range frm zero to one less than the parameter\n",
    "- We can construct an index loop using for and an integer iterator"
   ]
  },
  {
   "cell_type": "code",
   "execution_count": 19,
   "id": "1989951e-29c9-4879-934e-828d01e8dc18",
   "metadata": {},
   "outputs": [
    {
     "name": "stdout",
     "output_type": "stream",
     "text": [
      "range(0, 4)\n"
     ]
    }
   ],
   "source": [
    "print(range(4))"
   ]
  },
  {
   "cell_type": "code",
   "execution_count": 21,
   "id": "0966827e-7492-4206-a22d-f373ffbf7a60",
   "metadata": {},
   "outputs": [
    {
     "name": "stdout",
     "output_type": "stream",
     "text": [
      "3\n"
     ]
    }
   ],
   "source": [
    "friends = ['Paul', 'Hugo', 'Louis']\n",
    "print(len(friends))"
   ]
  },
  {
   "cell_type": "code",
   "execution_count": 22,
   "id": "aa159ebb-b85d-436e-9200-b700a84c48e4",
   "metadata": {},
   "outputs": [
    {
     "name": "stdout",
     "output_type": "stream",
     "text": [
      "range(0, 3)\n"
     ]
    }
   ],
   "source": [
    "print(range(len(friends)))"
   ]
  },
  {
   "cell_type": "code",
   "execution_count": 23,
   "id": "2f7d62fe-1b65-4e22-9680-7bfed0b6e207",
   "metadata": {},
   "outputs": [
    {
     "name": "stdout",
     "output_type": "stream",
     "text": [
      "Happy New Year Paul\n",
      "Happy New Year Hugo\n",
      "Happy New Year Louis\n"
     ]
    }
   ],
   "source": [
    "friends =  ['Paul', 'Hugo', 'Louis']\n",
    "\n",
    "for friend in friends : \n",
    "    print('Happy New Year', friend)"
   ]
  },
  {
   "cell_type": "code",
   "execution_count": 24,
   "id": "9caf24d1-7066-4447-939f-75b5365563fa",
   "metadata": {},
   "outputs": [
    {
     "name": "stdout",
     "output_type": "stream",
     "text": [
      "Happy New Year Paul\n",
      "Happy New Year Hugo\n",
      "Happy New Year Louis\n"
     ]
    }
   ],
   "source": [
    "for i in range(len(friends)):\n",
    "    friend = friends[i]\n",
    "    print('Happy New Year', friend)"
   ]
  },
  {
   "cell_type": "code",
   "execution_count": 25,
   "id": "38f2973a-346c-477f-9492-33b0b1a86a1a",
   "metadata": {},
   "outputs": [
    {
     "name": "stdout",
     "output_type": "stream",
     "text": [
      "[1, 2, 3, 4, 5, 6]\n"
     ]
    }
   ],
   "source": [
    "a = [1, 2, 3]\n",
    "b = [4, 5, 6]\n",
    "c = a + b\n",
    "print(c)"
   ]
  },
  {
   "cell_type": "code",
   "execution_count": 26,
   "id": "314f3d9b-0b6c-4c89-af09-374c5c8f927f",
   "metadata": {},
   "outputs": [
    {
     "data": {
      "text/plain": [
       "[2, 3]"
      ]
     },
     "execution_count": 26,
     "metadata": {},
     "output_type": "execute_result"
    }
   ],
   "source": [
    "t = [1, 2, 3, 4, 5, 6]\n",
    "t[1:3]"
   ]
  },
  {
   "cell_type": "code",
   "execution_count": 27,
   "id": "6e04cdb4-6520-47b6-8d22-796827a878e6",
   "metadata": {},
   "outputs": [
    {
     "data": {
      "text/plain": [
       "[1, 2, 3]"
      ]
     },
     "execution_count": 27,
     "metadata": {},
     "output_type": "execute_result"
    }
   ],
   "source": [
    "t[:3]"
   ]
  },
  {
   "cell_type": "code",
   "execution_count": 28,
   "id": "ac091c70-3ada-4918-a917-d01818b428a9",
   "metadata": {},
   "outputs": [
    {
     "data": {
      "text/plain": [
       "[4, 5, 6]"
      ]
     },
     "execution_count": 28,
     "metadata": {},
     "output_type": "execute_result"
    }
   ],
   "source": [
    "t[3:]"
   ]
  },
  {
   "cell_type": "code",
   "execution_count": 29,
   "id": "f588fd8a-3a28-4b35-8756-1600d4fc573e",
   "metadata": {},
   "outputs": [
    {
     "data": {
      "text/plain": [
       "list"
      ]
     },
     "execution_count": 29,
     "metadata": {},
     "output_type": "execute_result"
    }
   ],
   "source": [
    "x = list()\n",
    "type(x)\n"
   ]
  },
  {
   "cell_type": "code",
   "execution_count": 30,
   "id": "2d24a3aa-e064-4dd4-83f0-b4dbd8691a1a",
   "metadata": {},
   "outputs": [
    {
     "data": {
      "text/plain": [
       "['__add__',\n",
       " '__class__',\n",
       " '__class_getitem__',\n",
       " '__contains__',\n",
       " '__delattr__',\n",
       " '__delitem__',\n",
       " '__dir__',\n",
       " '__doc__',\n",
       " '__eq__',\n",
       " '__format__',\n",
       " '__ge__',\n",
       " '__getattribute__',\n",
       " '__getitem__',\n",
       " '__gt__',\n",
       " '__hash__',\n",
       " '__iadd__',\n",
       " '__imul__',\n",
       " '__init__',\n",
       " '__init_subclass__',\n",
       " '__iter__',\n",
       " '__le__',\n",
       " '__len__',\n",
       " '__lt__',\n",
       " '__mul__',\n",
       " '__ne__',\n",
       " '__new__',\n",
       " '__reduce__',\n",
       " '__reduce_ex__',\n",
       " '__repr__',\n",
       " '__reversed__',\n",
       " '__rmul__',\n",
       " '__setattr__',\n",
       " '__setitem__',\n",
       " '__sizeof__',\n",
       " '__str__',\n",
       " '__subclasshook__',\n",
       " 'append',\n",
       " 'clear',\n",
       " 'copy',\n",
       " 'count',\n",
       " 'extend',\n",
       " 'index',\n",
       " 'insert',\n",
       " 'pop',\n",
       " 'remove',\n",
       " 'reverse',\n",
       " 'sort']"
      ]
     },
     "execution_count": 30,
     "metadata": {},
     "output_type": "execute_result"
    }
   ],
   "source": [
    "dir(x)"
   ]
  },
  {
   "cell_type": "markdown",
   "id": "40492719-44ae-4780-8eee-6a9297bfdc0d",
   "metadata": {},
   "source": [
    "# Building a list from scratch "
   ]
  },
  {
   "cell_type": "markdown",
   "id": "d4f9ee4e-8af3-4964-a2d0-5731436c8ac9",
   "metadata": {},
   "source": [
    "- We can create an empty list and then add elements using the append method\n",
    "- The list stays in order and new elements are added at the end of the list "
   ]
  },
  {
   "cell_type": "code",
   "execution_count": 32,
   "id": "07d63b13-9fb9-41eb-84a5-5a8a22d2368e",
   "metadata": {},
   "outputs": [
    {
     "name": "stdout",
     "output_type": "stream",
     "text": [
      "['Book', 99]\n"
     ]
    }
   ],
   "source": [
    "stuff = list()\n",
    "stuff.append('Book')\n",
    "stuff.append(99)\n",
    "print(stuff)"
   ]
  },
  {
   "cell_type": "code",
   "execution_count": 33,
   "id": "ed39b459-4d21-4a42-9e4a-a861d60e4830",
   "metadata": {},
   "outputs": [
    {
     "name": "stdout",
     "output_type": "stream",
     "text": [
      "['Book', 99, 'End']\n"
     ]
    }
   ],
   "source": [
    "stuff.append('End')\n",
    "print(stuff)"
   ]
  },
  {
   "cell_type": "markdown",
   "id": "615ddcb9-901f-4bb8-abc7-438d06cfc2d8",
   "metadata": {},
   "source": [
    "# Is something in a list"
   ]
  },
  {
   "cell_type": "markdown",
   "id": "07aa0aed-ea9a-4b22-ac9f-fa1980ea842c",
   "metadata": {},
   "source": [
    "- True and False operator\n",
    "- 'in' or 'not in'"
   ]
  },
  {
   "cell_type": "code",
   "execution_count": 35,
   "id": "64ae996b-3dbf-44f6-a84a-8f4b6387bb4c",
   "metadata": {},
   "outputs": [
    {
     "data": {
      "text/plain": [
       "True"
      ]
     },
     "execution_count": 35,
     "metadata": {},
     "output_type": "execute_result"
    }
   ],
   "source": [
    "some = [1, 9, 21, 34, 84]\n",
    "9 in some "
   ]
  },
  {
   "cell_type": "code",
   "execution_count": 36,
   "id": "cccff71f-fb00-43c8-bf88-418a2cae8910",
   "metadata": {},
   "outputs": [
    {
     "data": {
      "text/plain": [
       "False"
      ]
     },
     "execution_count": 36,
     "metadata": {},
     "output_type": "execute_result"
    }
   ],
   "source": [
    "35 in some"
   ]
  },
  {
   "cell_type": "code",
   "execution_count": 37,
   "id": "d9e4a3c0-e413-4f68-be50-8c703b59a59b",
   "metadata": {},
   "outputs": [
    {
     "data": {
      "text/plain": [
       "False"
      ]
     },
     "execution_count": 37,
     "metadata": {},
     "output_type": "execute_result"
    }
   ],
   "source": [
    "34 not in some"
   ]
  },
  {
   "cell_type": "markdown",
   "id": "abad8108-ce90-49da-a40f-a618fee7a37a",
   "metadata": {},
   "source": [
    "# Lists are in order"
   ]
  },
  {
   "cell_type": "code",
   "execution_count": 38,
   "id": "4ef12fe4-4b6e-4739-bfb8-b61aff9a3c30",
   "metadata": {},
   "outputs": [
    {
     "name": "stdout",
     "output_type": "stream",
     "text": [
      "[1, 9, 21, 34, 84]\n"
     ]
    }
   ],
   "source": [
    "some = [1, 9, 21, 34, 84]\n",
    "some.sort()\n",
    "print(some)"
   ]
  },
  {
   "cell_type": "markdown",
   "id": "097fb2b2-f94f-4be7-af6a-73590cebd473",
   "metadata": {},
   "source": [
    "# Built-in functions and lists "
   ]
  },
  {
   "cell_type": "code",
   "execution_count": 39,
   "id": "4828094d-459b-4132-a0fe-97d94ad24925",
   "metadata": {},
   "outputs": [
    {
     "name": "stdout",
     "output_type": "stream",
     "text": [
      "5\n"
     ]
    }
   ],
   "source": [
    "some = [1, 9, 21, 34, 84]\n",
    "print(len(some))"
   ]
  },
  {
   "cell_type": "code",
   "execution_count": 40,
   "id": "63ba998d-2ddf-41d4-838d-2d807f52f4a5",
   "metadata": {},
   "outputs": [
    {
     "name": "stdout",
     "output_type": "stream",
     "text": [
      "84\n"
     ]
    }
   ],
   "source": [
    "print(max(some))"
   ]
  },
  {
   "cell_type": "code",
   "execution_count": 41,
   "id": "46aebfdc-f24e-4926-a11a-3ca56533cfa7",
   "metadata": {},
   "outputs": [
    {
     "name": "stdout",
     "output_type": "stream",
     "text": [
      "1\n"
     ]
    }
   ],
   "source": [
    "print(min(some))"
   ]
  },
  {
   "cell_type": "code",
   "execution_count": 42,
   "id": "24facc73-2db5-4437-ab1d-adc5c470ba24",
   "metadata": {},
   "outputs": [
    {
     "name": "stdout",
     "output_type": "stream",
     "text": [
      "149\n"
     ]
    }
   ],
   "source": [
    "print(sum(some))"
   ]
  },
  {
   "cell_type": "code",
   "execution_count": 43,
   "id": "55b7bdcf-2535-4577-b844-57aa2b0af0a0",
   "metadata": {},
   "outputs": [
    {
     "name": "stdout",
     "output_type": "stream",
     "text": [
      "29.8\n"
     ]
    }
   ],
   "source": [
    "print(sum(some)/len(some))"
   ]
  },
  {
   "cell_type": "code",
   "execution_count": 44,
   "id": "0ced58d8-c7db-4a96-bd2b-1051db200904",
   "metadata": {},
   "outputs": [
    {
     "name": "stdin",
     "output_type": "stream",
     "text": [
      "Enter a number:  1\n",
      "Enter a number:  4\n",
      "Enter a number:  5\n",
      "Enter a number:  90\n",
      "Enter a number:  46\n",
      "Enter a number:  done\n"
     ]
    },
    {
     "name": "stdout",
     "output_type": "stream",
     "text": [
      "29.2\n"
     ]
    }
   ],
   "source": [
    "#Calculation of average using strings\n",
    "\n",
    "count = 0\n",
    "total = 0\n",
    "while True:\n",
    "    inp = input('Enter a number: ')\n",
    "    if inp == 'done': break\n",
    "    value = float(inp)\n",
    "    total = total + value\n",
    "    count = count + 1\n",
    "\n",
    "average = total / count\n",
    "print(average)\n",
    "    "
   ]
  },
  {
   "cell_type": "code",
   "execution_count": 49,
   "id": "ca6d915f-3a30-4d96-95db-66dcb8b9bec1",
   "metadata": {},
   "outputs": [
    {
     "name": "stdin",
     "output_type": "stream",
     "text": [
      "Enter a number 1\n",
      "Enter a number 4\n",
      "Enter a number 5\n",
      "Enter a number 90\n",
      "Enter a number 46\n",
      "Enter a number done\n"
     ]
    },
    {
     "name": "stdout",
     "output_type": "stream",
     "text": [
      "average:  29.2\n"
     ]
    }
   ],
   "source": [
    "#Calculation of average using lists\n",
    "\n",
    "numlist = list()\n",
    "while True: \n",
    "    inp = input('Enter a number')\n",
    "    if inp =='done': break \n",
    "    value = float(inp) \n",
    "    numlist.append(value)\n",
    "\n",
    "average = sum(numlist)/len(numlist)\n",
    "print('average: ', average)"
   ]
  },
  {
   "cell_type": "code",
   "execution_count": 54,
   "id": "341725bc-841d-4b57-9c77-fed62e278e3c",
   "metadata": {},
   "outputs": [
    {
     "name": "stdout",
     "output_type": "stream",
     "text": [
      "THE\n"
     ]
    },
    {
     "ename": "IndexError",
     "evalue": "list index out of range",
     "output_type": "error",
     "traceback": [
      "\u001b[0;31m---------------------------------------------------------------------------\u001b[0m",
      "\u001b[0;31mIndexError\u001b[0m                                Traceback (most recent call last)",
      "Cell \u001b[0;32mIn[54], line 6\u001b[0m\n\u001b[1;32m      4\u001b[0m \u001b[38;5;28;01mif\u001b[39;00m line\u001b[38;5;241m.\u001b[39mstartswith(\u001b[38;5;124m'\u001b[39m\u001b[38;5;124mThis\u001b[39m\u001b[38;5;124m'\u001b[39m) : \u001b[38;5;28;01mcontinue\u001b[39;00m\n\u001b[1;32m      5\u001b[0m words \u001b[38;5;241m=\u001b[39m line\u001b[38;5;241m.\u001b[39msplit()\n\u001b[0;32m----> 6\u001b[0m \u001b[38;5;28mprint\u001b[39m(\u001b[43mwords\u001b[49m\u001b[43m[\u001b[49m\u001b[38;5;241;43m2\u001b[39;49m\u001b[43m]\u001b[49m)\n",
      "\u001b[0;31mIndexError\u001b[0m: list index out of range"
     ]
    }
   ],
   "source": [
    "fread = open('Test_Python_FileReading_1.txt')\n",
    "for line in fread:\n",
    "    line = line.rstrip()\n",
    "    if line.startswith('This') : continue\n",
    "    words = line.split()\n",
    "    print(words[2])"
   ]
  },
  {
   "cell_type": "code",
   "execution_count": null,
   "id": "4d1a7c63-9f6e-49eb-9348-28136a7df958",
   "metadata": {},
   "outputs": [],
   "source": []
  }
 ],
 "metadata": {
  "kernelspec": {
   "display_name": "Python 3 (ipykernel)",
   "language": "python",
   "name": "python3"
  },
  "language_info": {
   "codemirror_mode": {
    "name": "ipython",
    "version": 3
   },
   "file_extension": ".py",
   "mimetype": "text/x-python",
   "name": "python",
   "nbconvert_exporter": "python",
   "pygments_lexer": "ipython3",
   "version": "3.10.7"
  }
 },
 "nbformat": 4,
 "nbformat_minor": 5
}
