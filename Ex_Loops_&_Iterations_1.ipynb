{
 "cells": [
  {
   "cell_type": "code",
   "execution_count": 1,
   "id": "7af64c76-0c37-4d49-9ef3-119b0d4362e2",
   "metadata": {},
   "outputs": [
    {
     "name": "stdout",
     "output_type": "stream",
     "text": [
      "5\n",
      "4\n",
      "3\n",
      "2\n",
      "1\n",
      "Blastoff\n",
      "0\n"
     ]
    }
   ],
   "source": [
    "n = 5 \n",
    "while n>0:\n",
    "    print(n)\n",
    "    n = n-1\n",
    "print('Blastoff')\n",
    "print(n) "
   ]
  },
  {
   "cell_type": "code",
   "execution_count": 4,
   "id": "46826858-6ebe-4ff6-8e4f-55e0429c9113",
   "metadata": {},
   "outputs": [
    {
     "name": "stdin",
     "output_type": "stream",
     "text": [
      "> fr\n"
     ]
    },
    {
     "name": "stdout",
     "output_type": "stream",
     "text": [
      "fr\n"
     ]
    },
    {
     "name": "stdin",
     "output_type": "stream",
     "text": [
      "> doing\n"
     ]
    },
    {
     "name": "stdout",
     "output_type": "stream",
     "text": [
      "doing\n"
     ]
    },
    {
     "name": "stdin",
     "output_type": "stream",
     "text": [
      "> bestoff\n"
     ]
    },
    {
     "name": "stdout",
     "output_type": "stream",
     "text": [
      "bestoff\n"
     ]
    },
    {
     "name": "stdin",
     "output_type": "stream",
     "text": [
      "> done\n"
     ]
    },
    {
     "name": "stdout",
     "output_type": "stream",
     "text": [
      "Done!\n"
     ]
    }
   ],
   "source": [
    "while True:\n",
    "    line = input('>')\n",
    "    if line == 'done':\n",
    "        break\n",
    "    print(line)\n",
    "print('Done!')"
   ]
  },
  {
   "cell_type": "code",
   "execution_count": 6,
   "id": "268aa66f-e03b-4c49-a604-d2a6e571c0d2",
   "metadata": {},
   "outputs": [
    {
     "name": "stdin",
     "output_type": "stream",
     "text": [
      "> kfdzf\n"
     ]
    },
    {
     "name": "stdout",
     "output_type": "stream",
     "text": [
      "kfdzf\n"
     ]
    },
    {
     "name": "stdin",
     "output_type": "stream",
     "text": [
      "> fjkdlng\n"
     ]
    },
    {
     "name": "stdout",
     "output_type": "stream",
     "text": [
      "fjkdlng\n"
     ]
    },
    {
     "name": "stdin",
     "output_type": "stream",
     "text": [
      "> kjnfdsqg\n"
     ]
    },
    {
     "name": "stdout",
     "output_type": "stream",
     "text": [
      "kjnfdsqg\n"
     ]
    },
    {
     "name": "stdin",
     "output_type": "stream",
     "text": [
      "> don\n"
     ]
    },
    {
     "name": "stdout",
     "output_type": "stream",
     "text": [
      "Done!\n"
     ]
    }
   ],
   "source": [
    "while True:\n",
    "    line = input('>')\n",
    "    if line == '#':\n",
    "        continue\n",
    "    if line =='don':\n",
    "        break\n",
    "    print(line)\n",
    "print('Done!')"
   ]
  },
  {
   "cell_type": "code",
   "execution_count": 7,
   "id": "7ad5bb1e-1f4f-4a20-85a7-cfbc3506b524",
   "metadata": {},
   "outputs": [
    {
     "name": "stdout",
     "output_type": "stream",
     "text": [
      "5\n",
      "4\n",
      "3\n",
      "2\n",
      "1\n",
      "Blastoff\n"
     ]
    }
   ],
   "source": [
    "#Definite loops\n",
    "\n",
    "for i in [5, 4, 3, 2, 1]:\n",
    "    print(i)\n",
    "print ('Blastoff')"
   ]
  },
  {
   "cell_type": "markdown",
   "id": "415175b2-fff6-47f7-bc12-b0c096fe5882",
   "metadata": {},
   "source": [
    "# Definite loops"
   ]
  },
  {
   "cell_type": "code",
   "execution_count": 8,
   "id": "f66e8a2b-ae47-402c-b0a3-7ee19851c7a2",
   "metadata": {},
   "outputs": [
    {
     "name": "stdout",
     "output_type": "stream",
     "text": [
      "Happy New Year  Joseph\n",
      "Happy New Year  Glenn\n",
      "Happy New Year  Sally\n",
      "Done\n"
     ]
    }
   ],
   "source": [
    "friends = ['Joseph', 'Glenn', 'Sally']\n",
    "for friend in friends :\n",
    "    print('Happy New Year ', friend)\n",
    "print('Done')"
   ]
  },
  {
   "cell_type": "code",
   "execution_count": 10,
   "id": "b799e4f1-9587-42a4-b57d-d60a888b26c9",
   "metadata": {},
   "outputs": [
    {
     "name": "stdout",
     "output_type": "stream",
     "text": [
      "Before -1\n",
      "3 3\n",
      "41 41\n",
      "41 13\n",
      "41 9\n",
      "74 74\n",
      "74 15\n",
      "After 74\n"
     ]
    }
   ],
   "source": [
    "largest_so_far = -1 \n",
    "print('Before', largest_so_far)\n",
    "for the_num in [3, 41, 13, 9, 74, 15]:\n",
    "    if the_num > largest_so_far:\n",
    "        largest_so_far = the_num\n",
    "    print(largest_so_far, the_num)\n",
    "print('After', largest_so_far)\n",
    "        "
   ]
  },
  {
   "cell_type": "code",
   "execution_count": null,
   "id": "aa2ac404-74b6-4fea-a51c-e17ad26ad3ef",
   "metadata": {},
   "outputs": [],
   "source": []
  }
 ],
 "metadata": {
  "kernelspec": {
   "display_name": "Python 3 (ipykernel)",
   "language": "python",
   "name": "python3"
  },
  "language_info": {
   "codemirror_mode": {
    "name": "ipython",
    "version": 3
   },
   "file_extension": ".py",
   "mimetype": "text/x-python",
   "name": "python",
   "nbconvert_exporter": "python",
   "pygments_lexer": "ipython3",
   "version": "3.10.7"
  }
 },
 "nbformat": 4,
 "nbformat_minor": 5
}
