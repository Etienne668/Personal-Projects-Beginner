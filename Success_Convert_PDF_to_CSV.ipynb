{
 "cells": [
  {
   "cell_type": "code",
   "execution_count": 19,
   "id": "91f6a691-e70a-4a36-8570-8fb096054a90",
   "metadata": {},
   "outputs": [],
   "source": [
    "import tabula\n",
    "import pandas as pd"
   ]
  },
  {
   "cell_type": "code",
   "execution_count": 27,
   "id": "34f8390a-5d62-4c89-bb60-f04591f41eed",
   "metadata": {},
   "outputs": [],
   "source": [
    "df = tabula.read_pdf(\"/Users/etiennecampredon/Downloads/ISO 26000.pdf\", encoding = \"utf-8\", stream=True, pages = 17)"
   ]
  },
  {
   "cell_type": "code",
   "execution_count": 54,
   "id": "41ace264-9af8-4cb5-9c0b-2c2d5fdd09de",
   "metadata": {},
   "outputs": [],
   "source": [
    "csv = tabula.convert_into(\"/Users/etiennecampredon/Downloads/ISO 26000.pdf\", \"/Users/etiennecampredon/Downloads/ISO 26000_5.csv\", output_format=\"csv\", pages = 'all')"
   ]
  },
  {
   "cell_type": "code",
   "execution_count": 28,
   "id": "941eceb6-2333-4f5f-9d65-c8f19e3dd68b",
   "metadata": {
    "tags": []
   },
   "outputs": [
    {
     "name": "stdout",
     "output_type": "stream",
     "text": [
      "[             Questions centrales et domaines d'action Traité au paragraphe\n",
      "0    Question centrale: Gouvernance de l'organisation                  6.2\n",
      "1                Question centrale: Droits de l'Homme                  6.3\n",
      "2             Domaine d'action 1: Devoir de vigilance                6.3.3\n",
      "3   Domaine d'action 2: Situations présentant un r...                6.3.4\n",
      "4     Domaine d'action 3: Prévention de la complicité                6.3.5\n",
      "5   Domaine d'action 4: Remédier aux atteintes aux...                6.3.6\n",
      "6   Domaine d'action 5: Discrimination et groupes ...                6.3.7\n",
      "7     Domaine d'action 6: Droits civils et politiques                6.3.8\n",
      "8   Domaine d'action 7: Droits économiques, sociau...                6.3.9\n",
      "9   Domaine d'action 8: Principes fondamentaux et ...               6.3.10\n",
      "10  Question centrale: Relations et conditions de ...                  6.4\n",
      "11  Domaine d'action 1: Emploi et relations employ...                6.4.3\n",
      "12  Domaine d'action 2: Conditions de travail et p...                6.4.4\n",
      "13                Domaine d'action 3: Dialogue social                6.4.5\n",
      "14   Domaine d'action 4: Santé et sécurité au travail                6.4.6\n",
      "15  Domaine d'action 5: Développement du capital h...                6.4.7\n",
      "16                 Question centrale: L'environnement                  6.5\n",
      "17     Domaine d'action 1: Prévention de la pollution                6.5.3\n",
      "18  Domaine d'action 2: Utilisation durable des re...                6.5.4\n",
      "19  Domaine d'action 3: Atténuation des changement...                6.5.5\n",
      "20  Domaine d'action 4: Protection de l'environnem...                6.5.6\n",
      "21                              des habitats naturels                  NaN\n",
      "22           Question centrale: Loyauté des pratiques                  6.6\n",
      "23     Domaine d'action 1: Lutte contre la corruption                6.6.3\n",
      "24  Domaine d'action 2: Engagement politique respo...                6.6.4\n",
      "25             Domaine d'action 3: Concurrence loyale                6.6.5\n",
      "26  Domaine d'action 4: Promotion de la responsabi...                6.6.6\n",
      "27                                             valeur                  NaN\n",
      "28  Domaine d'action 5: Respect des droits de prop...                6.6.7\n",
      "29  Question centrale: Questions relatives aux con...                  6.7\n",
      "30  Domaine d'action 1: Pratiques loyales en matiè...                6.7.3\n",
      "31                      d'informations et de contrats                  NaN\n",
      "32  Domaine d'action 2: Protection de la santé et ...                6.7.4\n",
      "33           Domaine d'action 3: Consommation durable                6.7.5\n",
      "34  Domaine d'action 4: Service après-vente, assis...                6.7.6\n",
      "35     réclamations et litiges pour les consommateurs                  NaN\n",
      "36  Domaine d'action 5: Protection des données et ...                6.7.7\n",
      "37                                      consommateurs                  NaN\n",
      "38  Domaine d'action 6: Accès aux services essentiels                6.7.8\n",
      "39   Domaine d'action 7: Éducation et sensibilisation                6.7.9\n",
      "40  Question centrale: Communautés et développemen...                  6.8\n",
      "41  Domaine d'action 1: Implication auprès des com...                6.8.3\n",
      "42           Domaine d'action 2: Éducation et culture                6.8.4\n",
      "43  Domaine d'action 3: Création d'emplois et déve...                6.8.5\n",
      "44  Domaine d'action 4: Développement des technolo...                6.8.6\n",
      "45  Domaine d'action 5: Création de richesses et d...                6.8.7\n",
      "46                       Domaine d'action 6: La santé                6.8.8\n",
      "47  Domaine d'action 7: Investissement dans la soc...                6.8.9]\n"
     ]
    }
   ],
   "source": [
    "print(df)"
   ]
  },
  {
   "cell_type": "code",
   "execution_count": 49,
   "id": "9bb4314f-1a7f-41e1-b4da-ecfceeb4d27a",
   "metadata": {},
   "outputs": [
    {
     "data": {
      "text/plain": [
       "list"
      ]
     },
     "execution_count": 49,
     "metadata": {},
     "output_type": "execute_result"
    }
   ],
   "source": [
    "type(df)"
   ]
  },
  {
   "cell_type": "code",
   "execution_count": 56,
   "id": "849de1cc-11f7-4181-ad2f-422d6418a401",
   "metadata": {},
   "outputs": [],
   "source": [
    "csv"
   ]
  },
  {
   "cell_type": "code",
   "execution_count": null,
   "id": "316c71b7-4969-4d05-bc8f-a4f4a1334fca",
   "metadata": {},
   "outputs": [],
   "source": []
  }
 ],
 "metadata": {
  "kernelspec": {
   "display_name": "Python 3 (ipykernel)",
   "language": "python",
   "name": "python3"
  },
  "language_info": {
   "codemirror_mode": {
    "name": "ipython",
    "version": 3
   },
   "file_extension": ".py",
   "mimetype": "text/x-python",
   "name": "python",
   "nbconvert_exporter": "python",
   "pygments_lexer": "ipython3",
   "version": "3.10.7"
  }
 },
 "nbformat": 4,
 "nbformat_minor": 5
}
