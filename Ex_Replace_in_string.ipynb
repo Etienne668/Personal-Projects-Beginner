{
 "cells": [
  {
   "cell_type": "code",
   "execution_count": 16,
   "id": "c31bb5e4-794b-4e96-8e61-af38a3a26ef8",
   "metadata": {},
   "outputs": [],
   "source": [
    "import pandas as pd\n",
    "import csv"
   ]
  },
  {
   "cell_type": "code",
   "execution_count": 2,
   "id": "fba5179f-e1f4-488d-bb6d-4ffcc4cbae51",
   "metadata": {},
   "outputs": [],
   "source": [
    "data = \"\""
   ]
  },
  {
   "cell_type": "code",
   "execution_count": 19,
   "id": "80e2d543-e5a2-4b2b-a0c9-43511b035d32",
   "metadata": {},
   "outputs": [],
   "source": [
    "# replace ; by , in a string\n",
    "\n",
    "with open (\"/Users/etiennecampredon/Downloads/consommation-mondiale-de-gaz-naturel.csv\") as csv:\n",
    "    data = csv.read().replace(\";\",\",\")"
   ]
  },
  {
   "cell_type": "code",
   "execution_count": 21,
   "id": "d73b539f-8e28-4f9e-b09b-9a125e5f5331",
   "metadata": {},
   "outputs": [
    {
     "data": {
      "text/plain": [
       "'annee,pays,consommation_gm3_an,country\\n2008,Amérique du Nord,778.2,North America\\n2014,Amérique du Nord,910.7,North America\\n2015,Amérique du Nord,934.1,North America\\n2020,Amérique du Nord,1030.9,North America\\n2008,Amérique centrale et du Sud,138.1,Central and South America\\n2013,Amérique centrale et du Sud,163.5,Central and South America\\n2017,Amérique centrale et du Sud,172.6,Central and South America\\n2008,Eurasie,521.3,Eurasia\\n2008,Europe,625.6,Europe\\n2011,Europe,580.1,Europe\\n2018,Europe,549.0,Europe\\n2016,UE28,449.3,UE28\\n2020,UE28,435.9,UE28\\n2010,Moyen-Orient,380.1,Middle East\\n2012,Moyen-Orient,410.8,Middle East\\n2013,Moyen-Orient,423.3,Middle East\\n2015,Moyen-Orient,478.3,Middle East\\n2019,Moyen-Orient,558.4,Middle East\\n2020,Moyen-Orient,552.3,Middle East\\n2010,Afrique,98.9,Africa\\n2015,Afrique,128.1,Africa\\n2009,Asie Pacifique,515.6,Asia Pacific\\n2010,Asie Pacifique,577.6,Asia Pacific\\n2017,Asie Pacifique,768.3,Asia Pacific\\n2012,Monde,3317.5,World\\n2015,Monde,3466.5,World\\n2016,Monde,3550.2,World\\n2018,Monde,3848.9,World\\n2021,Amérique du Nord,1034.1,North America\\n2021,UE27,396.6,UE27\\n2010,Amérique du Nord,802.5,North America\\n2011,Amérique du Nord,826.6,North America\\n2020,Amérique centrale et du Sud,145.6,Central and South America\\n2010,Eurasie,531.3,Eurasia\\n2011,Eurasie,549.5,Eurasia\\n2013,Eurasie,537.3,Eurasia\\n2015,Eurasie,530.0,Eurasia\\n2016,Eurasie,537.7,Eurasia\\n2018,Eurasie,580.8,Eurasia\\n2020,Eurasie,538.2,Eurasia\\n2013,Europe,554.4,Europe\\n2016,Europe,537.6,Europe\\n2017,Europe,560.4,Europe\\n2011,UE28,471.0,UE28\\n2017,UE28,465.7,UE28\\n2011,Moyen-Orient,398.1,Middle East\\n2016,Moyen-Orient,500.9,Middle East\\n2018,Moyen-Orient,553.1,Middle East\\n2008,Afrique,94.8,Africa\\n2009,Afrique,95.6,Africa\\n2013,Afrique,116.6,Africa\\n2016,Afrique,135.0,Africa\\n2010,Monde,3156.7,World\\n2014,Monde,3392.6,World\\n2021,Eurasie,610.8,Eurasia\\n2021,Afrique,164.4,Africa\\n2021,Monde,4037.4,World\\n2018,Amérique du Nord,1022.3,North America\\n2009,Amérique centrale et du Sud,132.9,Central and South America\\n2015,Amérique centrale et du Sud,174.7,Central and South America\\n2016,Amérique centrale et du Sud,171.6,Central and South America\\n2012,Eurasie,545.2,Eurasia\\n2017,Eurasie,549.3,Eurasia\\n2012,Europe,565.4,Europe\\n2010,UE28,521.3,UE28\\n2018,UE28,458.5,UE28\\n2008,Moyen-Orient,337.1,Middle East\\n2017,Afrique,140.8,Africa\\n2008,Asie Pacifique,503.7,Asia Pacific\\n2011,Asie Pacifique,623.1,Asia Pacific\\n2016,Asie Pacifique,729.3,Asia Pacific\\n2018,Asie Pacifique,825.3,Asia Pacific\\n2020,Asie Pacifique,861.6,Asia Pacific\\n2008,Monde,2998.8,World\\n2013,Monde,3369.8,World\\n2019,Monde,3929.2,World\\n2009,Amérique du Nord,769.4,North America\\n2012,Amérique du Nord,859.0,North America\\n2013,Amérique du Nord,889.1,North America\\n2016,Amérique du Nord,938.0,North America\\n2019,Amérique du Nord,1057.6,North America\\n2018,Amérique centrale et du Sud,168.4,Central and South America\\n2009,Eurasie,499.9,Eurasia\\n2014,Eurasie,539.9,Eurasia\\n2019,Eurasie,573.7,Eurasia\\n2015,Europe,508.8,Europe\\n2020,Europe,541.1,Europe\\n2008,UE28,516.6,UE28\\n2012,UE28,459.1,UE28\\n2014,UE28,401.7,UE28\\n2017,Moyen-Orient,527.0,Middle East\\n2012,Afrique,115.1,Africa\\n2014,Afrique,119.9,Africa\\n2018,Afrique,150.0,Africa\\n2020,Afrique,153.0,Africa\\n2012,Asie Pacifique,664.3,Asia Pacific\\n2014,Asie Pacifique,706.2,Asia Pacific\\n2015,Asie Pacifique,712.5,Asia Pacific\\n2019,Asie Pacifique,869.9,Asia Pacific\\n2011,Monde,3233.3,World\\n2017,Monde,3654.0,World\\n2021,Amérique centrale et du Sud,163.3,Central and South America\\n2017,Amérique du Nord,935.5,North America\\n2010,Amérique centrale et du Sud,143.7,Central and South America\\n2011,Amérique centrale et du Sud,148.7,Central and South America\\n2012,Amérique centrale et du Sud,157.7,Central and South America\\n2014,Amérique centrale et du Sud,168.5,Central and South America\\n2019,Amérique centrale et du Sud,165.4,Central and South America\\n2009,Europe,577.1,Europe\\n2010,Europe,622.6,Europe\\n2014,Europe,500.0,Europe\\n2019,Europe,554.1,Europe\\n2009,UE28,484.5,UE28\\n2013,UE28,451.2,UE28\\n2015,UE28,418.7,UE28\\n2019,UE28,365.7,UE28\\n2009,Moyen-Orient,347.3,Middle East\\n2014,Moyen-Orient,447.5,Middle East\\n2011,Afrique,107.2,Africa\\n2019,Afrique,150.1,Africa\\n2013,Asie Pacifique,685.5,Asia Pacific\\n2009,Monde,2937.8,World\\n2020,Monde,3822.8,World\\n2021,Europe,571.1,Europe\\n2021,Moyen-Orient,575.4,Middle East\\n2021,Asie Pacifique,918.3,Asia Pacific\\n'"
      ]
     },
     "execution_count": 21,
     "metadata": {},
     "output_type": "execute_result"
    }
   ],
   "source": [
    "data"
   ]
  },
  {
   "cell_type": "code",
   "execution_count": null,
   "id": "9a473680-ae28-4d3c-9e4e-6dcb5c7fcd22",
   "metadata": {},
   "outputs": [],
   "source": []
  }
 ],
 "metadata": {
  "kernelspec": {
   "display_name": "Python 3 (ipykernel)",
   "language": "python",
   "name": "python3"
  },
  "language_info": {
   "codemirror_mode": {
    "name": "ipython",
    "version": 3
   },
   "file_extension": ".py",
   "mimetype": "text/x-python",
   "name": "python",
   "nbconvert_exporter": "python",
   "pygments_lexer": "ipython3",
   "version": "3.10.7"
  }
 },
 "nbformat": 4,
 "nbformat_minor": 5
}
