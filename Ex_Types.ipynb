{
 "cells": [
  {
   "cell_type": "code",
   "execution_count": 1,
   "id": "e9025433-d013-4df8-a56e-5cd63f6cc4df",
   "metadata": {},
   "outputs": [],
   "source": [
    "xx=1"
   ]
  },
  {
   "cell_type": "code",
   "execution_count": 2,
   "id": "57624351-e079-4842-b3d9-a73d061ec321",
   "metadata": {},
   "outputs": [
    {
     "data": {
      "text/plain": [
       "int"
      ]
     },
     "execution_count": 2,
     "metadata": {},
     "output_type": "execute_result"
    }
   ],
   "source": [
    "type(xx)"
   ]
  },
  {
   "cell_type": "code",
   "execution_count": 3,
   "id": "87c4e29e-95a8-4932-a3bd-d745c80577d8",
   "metadata": {},
   "outputs": [
    {
     "ename": "NameError",
     "evalue": "name 'temp' is not defined",
     "output_type": "error",
     "traceback": [
      "\u001b[0;31m---------------------------------------------------------------------------\u001b[0m",
      "\u001b[0;31mNameError\u001b[0m                                 Traceback (most recent call last)",
      "Cell \u001b[0;32mIn[3], line 1\u001b[0m\n\u001b[0;32m----> 1\u001b[0m \u001b[38;5;28mtype\u001b[39m(\u001b[43mtemp\u001b[49m)\n",
      "\u001b[0;31mNameError\u001b[0m: name 'temp' is not defined"
     ]
    }
   ],
   "source": [
    "type(temp)"
   ]
  },
  {
   "cell_type": "code",
   "execution_count": 4,
   "id": "13230dc2-b4f8-4861-8dec-2fa51c9ba3ee",
   "metadata": {},
   "outputs": [
    {
     "data": {
      "text/plain": [
       "str"
      ]
     },
     "execution_count": 4,
     "metadata": {},
     "output_type": "execute_result"
    }
   ],
   "source": [
    "type('temp')"
   ]
  },
  {
   "cell_type": "code",
   "execution_count": 5,
   "id": "122ec9b6-8abc-4e78-b290-60fd13ce6ce8",
   "metadata": {},
   "outputs": [],
   "source": [
    "temp = 'hello'"
   ]
  },
  {
   "cell_type": "code",
   "execution_count": 6,
   "id": "e4fbefa2-f850-4252-9961-3f22e6d28265",
   "metadata": {},
   "outputs": [
    {
     "data": {
      "text/plain": [
       "str"
      ]
     },
     "execution_count": 6,
     "metadata": {},
     "output_type": "execute_result"
    }
   ],
   "source": [
    "type(temp)"
   ]
  },
  {
   "cell_type": "code",
   "execution_count": 7,
   "id": "fdc218a8-8ee2-40a6-ae7a-97b3904a556f",
   "metadata": {},
   "outputs": [
    {
     "data": {
      "text/plain": [
       "float"
      ]
     },
     "execution_count": 7,
     "metadata": {},
     "output_type": "execute_result"
    }
   ],
   "source": [
    "type(98.5)"
   ]
  },
  {
   "cell_type": "code",
   "execution_count": 8,
   "id": "c77b0151-de59-4e41-a8fd-550a2dff96bd",
   "metadata": {},
   "outputs": [],
   "source": [
    "i = 42"
   ]
  },
  {
   "cell_type": "code",
   "execution_count": 9,
   "id": "0db6cfad-c8c9-4b7c-8b08-411e469f3401",
   "metadata": {},
   "outputs": [],
   "source": [
    "f = float(i)"
   ]
  },
  {
   "cell_type": "code",
   "execution_count": 10,
   "id": "00b13d2d-5b78-429a-989b-d181c6111730",
   "metadata": {},
   "outputs": [
    {
     "name": "stdout",
     "output_type": "stream",
     "text": [
      "42.0\n"
     ]
    }
   ],
   "source": [
    "print(f)"
   ]
  },
  {
   "cell_type": "code",
   "execution_count": 11,
   "id": "d65c2f49-500d-4f99-98f3-ff70b3733e00",
   "metadata": {},
   "outputs": [],
   "source": [
    "abc='123'"
   ]
  },
  {
   "cell_type": "code",
   "execution_count": 12,
   "id": "eb6d3e8b-c498-417c-a0b2-6637743c9018",
   "metadata": {},
   "outputs": [
    {
     "data": {
      "text/plain": [
       "str"
      ]
     },
     "execution_count": 12,
     "metadata": {},
     "output_type": "execute_result"
    }
   ],
   "source": [
    "type(abc)"
   ]
  },
  {
   "cell_type": "code",
   "execution_count": 13,
   "id": "b277b84b-6712-4578-9064-51ce09fd4e20",
   "metadata": {},
   "outputs": [],
   "source": [
    "abd=int(abc)"
   ]
  },
  {
   "cell_type": "code",
   "execution_count": 14,
   "id": "3768bf62-9466-4cce-8f7c-b78c0d316eb1",
   "metadata": {},
   "outputs": [
    {
     "ename": "TypeError",
     "evalue": "can only concatenate str (not \"int\") to str",
     "output_type": "error",
     "traceback": [
      "\u001b[0;31m---------------------------------------------------------------------------\u001b[0m",
      "\u001b[0;31mTypeError\u001b[0m                                 Traceback (most recent call last)",
      "Cell \u001b[0;32mIn[14], line 1\u001b[0m\n\u001b[0;32m----> 1\u001b[0m \u001b[38;5;28mprint\u001b[39m(\u001b[43mabc\u001b[49m\u001b[38;5;241;43m+\u001b[39;49m\u001b[38;5;241;43m1\u001b[39;49m)\n",
      "\u001b[0;31mTypeError\u001b[0m: can only concatenate str (not \"int\") to str"
     ]
    }
   ],
   "source": [
    "print(abc+1)"
   ]
  },
  {
   "cell_type": "code",
   "execution_count": 15,
   "id": "dd879cd3-ad89-4f39-9970-97736f2623f8",
   "metadata": {},
   "outputs": [
    {
     "name": "stdout",
     "output_type": "stream",
     "text": [
      "124\n"
     ]
    }
   ],
   "source": [
    "print(abd+1)"
   ]
  },
  {
   "cell_type": "code",
   "execution_count": 16,
   "id": "735990fc-6082-466f-82c3-a7ef3602410e",
   "metadata": {},
   "outputs": [
    {
     "name": "stdin",
     "output_type": "stream",
     "text": [
      "Who are you? Etienne\n"
     ]
    }
   ],
   "source": [
    "nam=input('Who are you?')"
   ]
  },
  {
   "cell_type": "code",
   "execution_count": 17,
   "id": "b894db8f-8365-4931-bc4b-bb7719a3d3b9",
   "metadata": {},
   "outputs": [
    {
     "name": "stdin",
     "output_type": "stream",
     "text": [
      "Who are you?  Etienne\n"
     ]
    },
    {
     "name": "stdout",
     "output_type": "stream",
     "text": [
      "Welcome  Etienne\n"
     ]
    }
   ],
   "source": [
    "nam = input('Who are you? ')\n",
    "print('Welcome ', nam)"
   ]
  },
  {
   "cell_type": "code",
   "execution_count": null,
   "id": "019d11c8-5592-4e1b-87a8-0491f84d7495",
   "metadata": {},
   "outputs": [],
   "source": []
  }
 ],
 "metadata": {
  "kernelspec": {
   "display_name": "Python 3 (ipykernel)",
   "language": "python",
   "name": "python3"
  },
  "language_info": {
   "codemirror_mode": {
    "name": "ipython",
    "version": 3
   },
   "file_extension": ".py",
   "mimetype": "text/x-python",
   "name": "python",
   "nbconvert_exporter": "python",
   "pygments_lexer": "ipython3",
   "version": "3.10.7"
  }
 },
 "nbformat": 4,
 "nbformat_minor": 5
}
