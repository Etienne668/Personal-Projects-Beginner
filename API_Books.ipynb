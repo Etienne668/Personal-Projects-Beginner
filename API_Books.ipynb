{
 "cells": [
  {
   "cell_type": "code",
   "execution_count": 2,
   "id": "b368195c-16f7-46e0-b040-b1a1746ce99b",
   "metadata": {},
   "outputs": [],
   "source": [
    "import requests\n",
    "import pandas as pd\n",
    "import datetime\n",
    "from bs4 import BeautifulSoup\n",
    "from sqlalchemy import create_engine\n",
    "URL = 'https://www.bookdepository.com/top-new-releases'\n",
    "page = requests.get(URL)\n",
    "soup = BeautifulSoup(page.content, \"html.parser\")\n",
    "books = soup.find_all(\"div\", class_ = \"book-item\")"
   ]
  },
  {
   "cell_type": "code",
   "execution_count": 3,
   "id": "3043ddcb-d306-4497-84cf-4b4ee367d984",
   "metadata": {},
   "outputs": [
    {
     "name": "stdout",
     "output_type": "stream",
     "text": [
      "<div class=\"book-item\" itemscope=\"\" itemtype=\"http://schema.org/Book\">\n",
      "<div class=\"item-img\">\n",
      "<a href=\"/Spare-Prince-Harry-Duke-Sussex/9780857504791\" itemprop=\"url\">\n",
      "<img alt=\"Spare\" src=\"https://d1w7fb2mkkr3kw.cloudfront.net/assets/images/book/mid/9780/8575/9780857504791.jpg\"/>\n",
      "<div class=\"savings-splat\">\n",
      "                        10%<br/>off</div>\n",
      "</a>\n",
      "</div>\n",
      "<meta content=\"9780857504791\" itemprop=\"isbn\"/>\n",
      "<meta content=\"Spare\" itemprop=\"name\"/>\n",
      "<meta content=\"Prince Harry the Duke of Sussex\" itemprop=\"contributor\"/>\n",
      "<div class=\"item-info\">\n",
      "<h3 class=\"title\">\n",
      "<a href=\"/Spare-Prince-Harry-Duke-Sussex/9780857504791\">\n",
      "                    Spare<br/>\n",
      "</a>\n",
      "</h3>\n",
      "<p class=\"author\">\n",
      "<a href=\"/author/Prince-Harry-the-Duke-of-Sussex\" itemprop=\"author\">Prince Harry the Duke of Sussex</a>\n",
      "</p>\n",
      "<div class=\"rating-wrap\">\n",
      "<a aria-label=\"Ratings for Spare\" href=\"/Spare-Prince-Harry-Duke-Sussex/9780857504791\">\n",
      "<div class=\"stars\">\n",
      "<span class=\"star full-star\"></span>\n",
      "<span class=\"star full-star\"></span>\n",
      "<span class=\"star full-star\"></span>\n",
      "<span class=\"star full-star\"></span>\n",
      "<span class=\"star\"></span>\n",
      "</div>\n",
      "</a>\n",
      "</div>\n",
      "<p class=\"published\" itemprop=\"datePublished\">10 Jan 2023</p>\n",
      "<p class=\"format\">Hardback</p>\n",
      "<div class=\"price-wrap omnibus\">\n",
      "<p class=\"price\">\n",
      "<span class=\"sale-price\">31,92 €</span>\n",
      "<span class=\"rrp-label\">\n",
      "<a href=\"/help/topic/HelpId/RRP#helpContent\">\n",
      "                                        RRP</a>:\n",
      "                                </span>\n",
      "                            \n",
      "                             <span class=\"rrp omnibus\">35,50 €</span>\n",
      "</p>\n",
      "<p class=\"price-save\">\n",
      "<a class=\"price-save-link\" href=\"/help/topic/HelpId/lowestprice#helpContent\">\n",
      "                                        30-day low price</a>:\n",
      "                                    <span class=\"price-save\">\n",
      "                                        28,26 €</span>\n",
      "</p>\n",
      "</div>\n",
      "</div>\n",
      "<div class=\"item-actions\">\n",
      "<div class=\"btn-wrap\">\n",
      "<a class=\"btn btn-sm btn-primary add-to-basket\" data-availability=\"AVAILABLE\" data-currency=\"EUR\" data-isbn=\"9780857504791\" data-price=\"31.92\" data-ref=\"carousel\" data-show-related=\"false\" href=\"/basket/addisbn/isbn13/9780857504791\" rel=\"nofollow\">\n",
      "                        Add to basket</a>\n",
      "</div>\n",
      "</div>\n",
      "</div>\n"
     ]
    }
   ],
   "source": [
    "print(books[0])"
   ]
  },
  {
   "cell_type": "code",
   "execution_count": 4,
   "id": "871bf696-e175-4855-802b-33c93e885b5a",
   "metadata": {},
   "outputs": [],
   "source": [
    "book_title = books[0].find(\"meta\", {\"itemprop\":\"name\"}).get(\"content\")\n",
    "book_author = books[0].find(\"p\", class_ = \"author\").find(\"a\").text\n",
    "book_format = books[0].find(\"p\", class_ = \"format\").text\n",
    "book_published = books[0].find(\"p\", class_ = \"published\").text\n",
    "book_isbn = books[0].find(\"a\", class_ = \"btn btn-sm btn-primary add-to-basket\").get(\"data-isbn\")\n",
    "book_currency = books[0].find(\"span\", class_ = \"sale-price\").get_symbol(\"data-currency\")\n",
    "book_price = books[0].find(\"a\", class_ = \"btn btn-sm btn-primary add-to-basket\").get(\"data-price\")"
   ]
  },
  {
   "cell_type": "code",
   "execution_count": 19,
   "id": "3c92c884-d1d6-4be8-971a-87437feaf0e0",
   "metadata": {},
   "outputs": [],
   "source": [
    "books_dict = {'title':[], 'author':[], 'format':[], 'published':[], 'isbn':[], 'currency':[], 'price':[], 'date':[]}"
   ]
  },
  {
   "cell_type": "code",
   "execution_count": 6,
   "id": "d37ab8ef-3434-46e3-8e87-d60b8787f425",
   "metadata": {},
   "outputs": [
    {
     "data": {
      "text/plain": [
       "str"
      ]
     },
     "execution_count": 6,
     "metadata": {},
     "output_type": "execute_result"
    }
   ],
   "source": [
    "type(book_isbn)"
   ]
  },
  {
   "cell_type": "code",
   "execution_count": 21,
   "id": "b0f215ea-080e-46b5-b0df-6805fa97784a",
   "metadata": {},
   "outputs": [
    {
     "ename": "AttributeError",
     "evalue": "'NoneType' object has no attribute 'get'",
     "output_type": "error",
     "traceback": [
      "\u001b[0;31m---------------------------------------------------------------------------\u001b[0m",
      "\u001b[0;31mAttributeError\u001b[0m                            Traceback (most recent call last)",
      "Cell \u001b[0;32mIn[21], line 7\u001b[0m\n\u001b[1;32m      5\u001b[0m books_dict[\u001b[38;5;124m'\u001b[39m\u001b[38;5;124mpublished\u001b[39m\u001b[38;5;124m'\u001b[39m]\u001b[38;5;241m.\u001b[39mappend(b\u001b[38;5;241m.\u001b[39mfind(\u001b[38;5;124m\"\u001b[39m\u001b[38;5;124mp\u001b[39m\u001b[38;5;124m\"\u001b[39m, class_ \u001b[38;5;241m=\u001b[39m \u001b[38;5;124m\"\u001b[39m\u001b[38;5;124mpublished\u001b[39m\u001b[38;5;124m\"\u001b[39m)\u001b[38;5;241m.\u001b[39mtext)\n\u001b[1;32m      6\u001b[0m books_dict[\u001b[38;5;124m'\u001b[39m\u001b[38;5;124misbn\u001b[39m\u001b[38;5;124m'\u001b[39m]\u001b[38;5;241m.\u001b[39mappend(b\u001b[38;5;241m.\u001b[39mfind(\u001b[38;5;124m\"\u001b[39m\u001b[38;5;124mmeta\u001b[39m\u001b[38;5;124m\"\u001b[39m, {\u001b[38;5;124m\"\u001b[39m\u001b[38;5;124mitemprop\u001b[39m\u001b[38;5;124m\"\u001b[39m:\u001b[38;5;124m\"\u001b[39m\u001b[38;5;124misbn\u001b[39m\u001b[38;5;124m\"\u001b[39m})\u001b[38;5;241m.\u001b[39mget(\u001b[38;5;124m\"\u001b[39m\u001b[38;5;124mcontent\u001b[39m\u001b[38;5;124m\"\u001b[39m))\n\u001b[0;32m----> 7\u001b[0m books_dict[\u001b[38;5;124m'\u001b[39m\u001b[38;5;124mcurrency\u001b[39m\u001b[38;5;124m'\u001b[39m]\u001b[38;5;241m.\u001b[39mappend(\u001b[43mb\u001b[49m\u001b[38;5;241;43m.\u001b[39;49m\u001b[43mfind\u001b[49m\u001b[43m(\u001b[49m\u001b[38;5;124;43m\"\u001b[39;49m\u001b[38;5;124;43ma\u001b[39;49m\u001b[38;5;124;43m\"\u001b[39;49m\u001b[43m,\u001b[49m\u001b[43m \u001b[49m\u001b[43mclass_\u001b[49m\u001b[43m \u001b[49m\u001b[38;5;241;43m=\u001b[39;49m\u001b[38;5;124;43m\"\u001b[39;49m\u001b[38;5;124;43mbtn btn-sm btn-primary add-to-basket\u001b[39;49m\u001b[38;5;124;43m\"\u001b[39;49m\u001b[43m)\u001b[49m\u001b[38;5;241;43m.\u001b[39;49m\u001b[43mget\u001b[49m(\u001b[38;5;124m\"\u001b[39m\u001b[38;5;124mdata-currency\u001b[39m\u001b[38;5;124m\"\u001b[39m))\n\u001b[1;32m      8\u001b[0m books_dict[\u001b[38;5;124m'\u001b[39m\u001b[38;5;124mprice\u001b[39m\u001b[38;5;124m'\u001b[39m]\u001b[38;5;241m.\u001b[39mappend(b\u001b[38;5;241m.\u001b[39mfind(\u001b[38;5;124m\"\u001b[39m\u001b[38;5;124ma\u001b[39m\u001b[38;5;124m\"\u001b[39m, class_ \u001b[38;5;241m=\u001b[39m\u001b[38;5;124m\"\u001b[39m\u001b[38;5;124mbtn btn-sm btn-primary add-to-basket\u001b[39m\u001b[38;5;124m\"\u001b[39m)\u001b[38;5;241m.\u001b[39mget(\u001b[38;5;124m\"\u001b[39m\u001b[38;5;124mdata-price\u001b[39m\u001b[38;5;124m\"\u001b[39m))\n\u001b[1;32m      9\u001b[0m books_dict[\u001b[38;5;124m'\u001b[39m\u001b[38;5;124mdate\u001b[39m\u001b[38;5;124m'\u001b[39m]\u001b[38;5;241m.\u001b[39mappend(datetime\u001b[38;5;241m.\u001b[39mdate\u001b[38;5;241m.\u001b[39mtoday())\n",
      "\u001b[0;31mAttributeError\u001b[0m: 'NoneType' object has no attribute 'get'"
     ]
    }
   ],
   "source": [
    "for b in books:\n",
    "     books_dict['title'].append(b.find(\"meta\", {\"itemprop\":\"name\"}).get(\"content\"))\n",
    "     books_dict['author'].append(b.find(\"p\", class_ = \"author\").find(\"a\").text)\n",
    "     books_dict['format'].append(b.find(\"p\", class_ = \"format\").text)\n",
    "     books_dict['published'].append(b.find(\"p\", class_ = \"published\").text)\n",
    "     books_dict['isbn'].append(b.find(\"meta\", {\"itemprop\":\"isbn\"}).get(\"content\"))\n",
    "     books_dict['currency'].append(b.find(\"a\", class_ =\"btn btn-sm btn-primary add-to-basket\").get(\"data-currency\"))\n",
    "     books_dict['price'].append(b.find(\"a\", class_ =\"btn btn-sm btn-primary add-to-basket\").get(\"data-price\"))\n",
    "     books_dict['date'].append(datetime.date.today())"
   ]
  },
  {
   "cell_type": "code",
   "execution_count": 22,
   "id": "d84a9fb0-3cbc-4e4e-9bc4-3e36ecd2596c",
   "metadata": {},
   "outputs": [
    {
     "ename": "SyntaxError",
     "evalue": "invalid syntax (538213134.py, line 1)",
     "output_type": "error",
     "traceback": [
      "\u001b[0;36m  Cell \u001b[0;32mIn[22], line 1\u001b[0;36m\u001b[0m\n\u001b[0;31m    return_books_dict[]\u001b[0m\n\u001b[0m                      ^\u001b[0m\n\u001b[0;31mSyntaxError\u001b[0m\u001b[0;31m:\u001b[0m invalid syntax\n"
     ]
    }
   ],
   "source": [
    "return_books_dict[]"
   ]
  },
  {
   "cell_type": "code",
   "execution_count": 23,
   "id": "c8bb9140-6f1d-4abd-a114-c72c302a42db",
   "metadata": {},
   "outputs": [
    {
     "ename": "SyntaxError",
     "evalue": "'return' outside function (3438313781.py, line 1)",
     "output_type": "error",
     "traceback": [
      "\u001b[0;36m  Cell \u001b[0;32mIn[23], line 1\u001b[0;36m\u001b[0m\n\u001b[0;31m    return\u001b[0m\n\u001b[0m    ^\u001b[0m\n\u001b[0;31mSyntaxError\u001b[0m\u001b[0;31m:\u001b[0m 'return' outside function\n"
     ]
    }
   ],
   "source": [
    "return"
   ]
  },
  {
   "cell_type": "code",
   "execution_count": 24,
   "id": "421d4b7d-cdc5-4198-9989-3a892caecfac",
   "metadata": {},
   "outputs": [
    {
     "ename": "NameError",
     "evalue": "name 'return_books_dict' is not defined",
     "output_type": "error",
     "traceback": [
      "\u001b[0;31m---------------------------------------------------------------------------\u001b[0m",
      "\u001b[0;31mNameError\u001b[0m                                 Traceback (most recent call last)",
      "Cell \u001b[0;32mIn[24], line 1\u001b[0m\n\u001b[0;32m----> 1\u001b[0m \u001b[43mreturn_books_dict\u001b[49m\n",
      "\u001b[0;31mNameError\u001b[0m: name 'return_books_dict' is not defined"
     ]
    }
   ],
   "source": [
    "return_books_dict"
   ]
  },
  {
   "cell_type": "code",
   "execution_count": 25,
   "id": "11c5d015-6bb2-41ee-a854-b96c134fc74e",
   "metadata": {},
   "outputs": [
    {
     "ename": "SyntaxError",
     "evalue": "'return' outside function (1427738674.py, line 1)",
     "output_type": "error",
     "traceback": [
      "\u001b[0;36m  Cell \u001b[0;32mIn[25], line 1\u001b[0;36m\u001b[0m\n\u001b[0;31m    return(books_dict)\u001b[0m\n\u001b[0m    ^\u001b[0m\n\u001b[0;31mSyntaxError\u001b[0m\u001b[0;31m:\u001b[0m 'return' outside function\n"
     ]
    }
   ],
   "source": [
    "return(books_dict)"
   ]
  },
  {
   "cell_type": "code",
   "execution_count": 26,
   "id": "7bd411a8-f7d9-4320-b4c1-27db0f7fb993",
   "metadata": {},
   "outputs": [
    {
     "ename": "SyntaxError",
     "evalue": "invalid syntax. Perhaps you forgot a comma? (2028132683.py, line 1)",
     "output_type": "error",
     "traceback": [
      "\u001b[0;36m  Cell \u001b[0;32mIn[26], line 1\u001b[0;36m\u001b[0m\n\u001b[0;31m    return(Books_dict[])\u001b[0m\n\u001b[0m           ^\u001b[0m\n\u001b[0;31mSyntaxError\u001b[0m\u001b[0;31m:\u001b[0m invalid syntax. Perhaps you forgot a comma?\n"
     ]
    }
   ],
   "source": [
    "return(Books_dict[])"
   ]
  },
  {
   "cell_type": "code",
   "execution_count": 27,
   "id": "de8fcf36-29cd-40c3-8e5f-e4a4adda7279",
   "metadata": {},
   "outputs": [],
   "source": [
    ">>> def get_symbol(price):\n",
    "        import re\n",
    "        pattern =  r'(\\D*)[\\d\\,\\.]+(\\D*)'\n",
    "        g = re.match(pattern, price.strip()).groups()\n",
    "        return (g[0] or g[1]).strip()"
   ]
  },
  {
   "cell_type": "code",
   "execution_count": 1,
   "id": "47a879a9-6c18-41cf-835c-7d4e3662b9d4",
   "metadata": {},
   "outputs": [
    {
     "ename": "NameError",
     "evalue": "name 'currency' is not defined",
     "output_type": "error",
     "traceback": [
      "\u001b[0;31m---------------------------------------------------------------------------\u001b[0m",
      "\u001b[0;31mNameError\u001b[0m                                 Traceback (most recent call last)",
      "Cell \u001b[0;32mIn[1], line 1\u001b[0m\n\u001b[0;32m----> 1\u001b[0m \u001b[38;5;28mprint\u001b[39m(\u001b[43mcurrency\u001b[49m)\n",
      "\u001b[0;31mNameError\u001b[0m: name 'currency' is not defined"
     ]
    }
   ],
   "source": [
    "print(currency)"
   ]
  },
  {
   "cell_type": "code",
   "execution_count": 3,
   "id": "63075cfa-7be0-4dc6-8035-beb14ee140c1",
   "metadata": {},
   "outputs": [
    {
     "ename": "NameError",
     "evalue": "name 'books' is not defined",
     "output_type": "error",
     "traceback": [
      "\u001b[0;31m---------------------------------------------------------------------------\u001b[0m",
      "\u001b[0;31mNameError\u001b[0m                                 Traceback (most recent call last)",
      "Cell \u001b[0;32mIn[3], line 1\u001b[0m\n\u001b[0;32m----> 1\u001b[0m \u001b[38;5;28;01mfor\u001b[39;00m b \u001b[38;5;129;01min\u001b[39;00m \u001b[43mbooks\u001b[49m:\n\u001b[1;32m      2\u001b[0m     book_currency \u001b[38;5;241m=\u001b[39m books[\u001b[38;5;241m0\u001b[39m]\u001b[38;5;241m.\u001b[39mfind(\u001b[38;5;124m\"\u001b[39m\u001b[38;5;124mspan\u001b[39m\u001b[38;5;124m\"\u001b[39m, class_ \u001b[38;5;241m=\u001b[39m \u001b[38;5;124m\"\u001b[39m\u001b[38;5;124msale-price\u001b[39m\u001b[38;5;124m\"\u001b[39m)\u001b[38;5;241m.\u001b[39mget_symbol(\u001b[38;5;124m\"\u001b[39m\u001b[38;5;124mdata-currency\u001b[39m\u001b[38;5;124m\"\u001b[39m)\n",
      "\u001b[0;31mNameError\u001b[0m: name 'books' is not defined"
     ]
    }
   ],
   "source": [
    "for b in books:\n",
    "    book_currency = books[0].find(\"span\", class_ = \"sale-price\").get_symbol(\"data-currency\")"
   ]
  },
  {
   "cell_type": "code",
   "execution_count": null,
   "id": "de71b7f6-b7b0-481a-a203-d167a905dd42",
   "metadata": {},
   "outputs": [],
   "source": []
  }
 ],
 "metadata": {
  "kernelspec": {
   "display_name": "Python 3 (ipykernel)",
   "language": "python",
   "name": "python3"
  },
  "language_info": {
   "codemirror_mode": {
    "name": "ipython",
    "version": 3
   },
   "file_extension": ".py",
   "mimetype": "text/x-python",
   "name": "python",
   "nbconvert_exporter": "python",
   "pygments_lexer": "ipython3",
   "version": "3.10.7"
  }
 },
 "nbformat": 4,
 "nbformat_minor": 5
}
