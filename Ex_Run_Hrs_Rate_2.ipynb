{
 "cells": [
  {
   "cell_type": "code",
   "execution_count": null,
   "metadata": {},
   "outputs": [],
   "source": [
    "#!/usr/bin/env python\n",
    "# coding: utf-8"
   ]
  },
  {
   "cell_type": "markdown",
   "metadata": {},
   "source": [
    "In[14]:"
   ]
  },
  {
   "cell_type": "code",
   "execution_count": null,
   "metadata": {},
   "outputs": [],
   "source": [
    "hrs = input(\"Enter your hours: \")\n",
    "rte = input(\"Enter your hourly rate: \")\n",
    "\n",
    "try:\n",
    "    fh = float(hrs)\n",
    "    fr = float(rte) \n",
    "except:\n",
    "    print('Please enter a numeric value')\n",
    "    quit()\n",
    "    \n",
    "#print(fhrs, frte)\n",
    "if fh>40:\n",
    "    #print(\"Overtime\")\n",
    "    reg = fh * fr \n",
    "    oth = (fh - 40.00) * (fr * 0.5)\n",
    "    #print(reg, oth)\n",
    "    otp = reg + oth\n",
    "\n",
    "else:\n",
    "    #print(\"Regular\")\n",
    "    otp = fh * fr\n",
    "\n",
    "otp = fh * fr\n",
    "print(\"Pay: \",otp)"
   ]
  },
  {
   "cell_type": "markdown",
   "metadata": {},
   "source": [
    "In[ ]:"
   ]
  }
 ],
 "metadata": {
  "kernelspec": {
   "display_name": "Python 3 (ipykernel)",
   "language": "python",
   "name": "python3"
  },
  "language_info": {
   "codemirror_mode": {
    "name": "ipython",
    "version": 3
   },
   "file_extension": ".py",
   "mimetype": "text/x-python",
   "name": "python",
   "nbconvert_exporter": "python",
   "pygments_lexer": "ipython3",
   "version": "3.10.7"
  }
 },
 "nbformat": 4,
 "nbformat_minor": 4
}
