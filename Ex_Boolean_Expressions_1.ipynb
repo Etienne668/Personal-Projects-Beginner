{
 "cells": [
  {
   "cell_type": "code",
   "execution_count": 1,
   "id": "aff1271e-627a-4392-bd4f-25e9fd3835e2",
   "metadata": {},
   "outputs": [
    {
     "name": "stdout",
     "output_type": "stream",
     "text": [
      "Before 5\n",
      "Is 5\n",
      "Is still 5\n",
      "Third 5\n",
      "Afterwards 5\n",
      "Before 6\n",
      "Afterwards 6\n"
     ]
    }
   ],
   "source": [
    "x = 5 \n",
    "print('Before 5')\n",
    "if x == 5 :\n",
    "    print('Is 5')\n",
    "    print('Is still 5')\n",
    "    print('Third 5')\n",
    "print ('Afterwards 5') \n",
    "print('Before 6') \n",
    "if x == 6 :\n",
    "    print('Is 6')\n",
    "    print('Is Still 6')\n",
    "    print('Third 6')\n",
    "print('Afterwards 6')\n"
   ]
  },
  {
   "cell_type": "code",
   "execution_count": 3,
   "id": "9cc93a60-efb3-4729-8ed9-275fbea42a4e",
   "metadata": {},
   "outputs": [
    {
     "name": "stdout",
     "output_type": "stream",
     "text": [
      "First -1\n",
      "Second 123\n"
     ]
    }
   ],
   "source": [
    "astr = 'Hello Bob'\n",
    "try:\n",
    "    istr = int(astr)\n",
    "except:\n",
    "    istr = -1\n",
    "print ('First', istr)\n",
    "\n",
    "astr = '123'\n",
    "try:\n",
    "    istr = int(astr)\n",
    "except: \n",
    "    istr = -1\n",
    "\n",
    "print ('Second', istr)\n"
   ]
  },
  {
   "cell_type": "code",
   "execution_count": 8,
   "id": "7d0f770f-9518-4912-ab15-94a45d84715c",
   "metadata": {},
   "outputs": [
    {
     "name": "stdin",
     "output_type": "stream",
     "text": [
      "Enter a number:  forty-two\n"
     ]
    },
    {
     "name": "stdout",
     "output_type": "stream",
     "text": [
      "Not a number\n"
     ]
    }
   ],
   "source": [
    "rawstr = input('Enter a number: ') \n",
    "try:\n",
    "    val=int(rawstr)\n",
    "except:\n",
    "    val=-1\n",
    "\n",
    "if val>0:\n",
    "    print('Nice work')\n",
    "else: \n",
    "    print('Not a number')"
   ]
  },
  {
   "cell_type": "code",
   "execution_count": null,
   "id": "85f91aa3-ffbe-48d3-937c-8464d8b04bdb",
   "metadata": {},
   "outputs": [],
   "source": []
  }
 ],
 "metadata": {
  "kernelspec": {
   "display_name": "Python 3 (ipykernel)",
   "language": "python",
   "name": "python3"
  },
  "language_info": {
   "codemirror_mode": {
    "name": "ipython",
    "version": 3
   },
   "file_extension": ".py",
   "mimetype": "text/x-python",
   "name": "python",
   "nbconvert_exporter": "python",
   "pygments_lexer": "ipython3",
   "version": "3.10.7"
  }
 },
 "nbformat": 4,
 "nbformat_minor": 5
}
