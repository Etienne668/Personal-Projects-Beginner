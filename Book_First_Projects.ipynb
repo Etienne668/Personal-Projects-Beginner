{
 "cells": [
  {
   "cell_type": "code",
   "execution_count": 6,
   "id": "4c638d23-5df8-476f-8bf6-a9789cd8b8a6",
   "metadata": {},
   "outputs": [
    {
     "name": "stdout",
     "output_type": "stream",
     "text": [
      "Hello World!\n",
      "What is your name?\n"
     ]
    },
    {
     "name": "stdin",
     "output_type": "stream",
     "text": [
      " \n"
     ]
    },
    {
     "name": "stdout",
     "output_type": "stream",
     "text": [
      "It is good to meet you \n",
      "The length of your name is \n",
      "0\n",
      "What is your age, ?\n"
     ]
    },
    {
     "name": "stdin",
     "output_type": "stream",
     "text": [
      " 3\n"
     ]
    },
    {
     "name": "stdout",
     "output_type": "stream",
     "text": [
      "You will be 4 in a year\n"
     ]
    }
   ],
   "source": [
    "print('Hello World!')\n",
    "print('What is your name?')\n",
    "myName = input()\n",
    "print('It is good to meet you ' + myName)\n",
    "print('The length of your name is ')\n",
    "print(len(myName))\n",
    "print('What is your age, ' + myName + '?')\n",
    "myAge=input()\n",
    "print('You will be '+ str(int(myAge) + 1) + ' in a year')"
   ]
  },
  {
   "cell_type": "code",
   "execution_count": null,
   "id": "18854020-0664-48bf-a8c6-829abcf3d26a",
   "metadata": {},
   "outputs": [],
   "source": []
  }
 ],
 "metadata": {
  "kernelspec": {
   "display_name": "Python 3 (ipykernel)",
   "language": "python",
   "name": "python3"
  },
  "language_info": {
   "codemirror_mode": {
    "name": "ipython",
    "version": 3
   },
   "file_extension": ".py",
   "mimetype": "text/x-python",
   "name": "python",
   "nbconvert_exporter": "python",
   "pygments_lexer": "ipython3",
   "version": "3.10.7"
  }
 },
 "nbformat": 4,
 "nbformat_minor": 5
}
