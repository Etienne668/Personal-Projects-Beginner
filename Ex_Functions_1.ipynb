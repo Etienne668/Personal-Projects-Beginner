{
 "cells": [
  {
   "cell_type": "code",
   "execution_count": 2,
   "id": "9b4231a3-1926-4592-a486-7b939cdec782",
   "metadata": {},
   "outputs": [
    {
     "name": "stdout",
     "output_type": "stream",
     "text": [
      "w\n"
     ]
    }
   ],
   "source": [
    "big = max('Hello world')\n",
    "print(big)"
   ]
  },
  {
   "cell_type": "code",
   "execution_count": 3,
   "id": "5200698e-e862-414c-be3c-a00b2763a52a",
   "metadata": {},
   "outputs": [
    {
     "name": "stdout",
     "output_type": "stream",
     "text": [
      " \n"
     ]
    }
   ],
   "source": [
    "tiny=min('Hello world')\n",
    "print(tiny)"
   ]
  },
  {
   "cell_type": "code",
   "execution_count": 8,
   "id": "6424568b-6011-45ea-a32d-194ea6b9c8ef",
   "metadata": {},
   "outputs": [
    {
     "name": "stdin",
     "output_type": "stream",
     "text": [
      "What is your language? fr\n"
     ]
    },
    {
     "name": "stdout",
     "output_type": "stream",
     "text": [
      "Bonjour\n"
     ]
    }
   ],
   "source": [
    "lang = input('What is your language?' )\n",
    "\n",
    "def greet(lang):\n",
    "    if lang == 'es':\n",
    "        print('Hola')\n",
    "    elif lang == 'fr':\n",
    "        print('Bonjour')\n",
    "    else:\n",
    "        print('Hello')\n",
    "\n",
    "greet(lang)\n",
    "            "
   ]
  },
  {
   "cell_type": "code",
   "execution_count": 11,
   "id": "29da0b18-bcaa-483c-a678-9604b420c792",
   "metadata": {},
   "outputs": [
    {
     "name": "stdout",
     "output_type": "stream",
     "text": [
      "Hello Glenn\n",
      "Hello Stacy\n"
     ]
    }
   ],
   "source": [
    "def greet():\n",
    "    return('Hello')\n",
    "\n",
    "print(greet(), \"Glenn\")\n",
    "print(greet(), \"Stacy\")"
   ]
  },
  {
   "cell_type": "code",
   "execution_count": 14,
   "id": "da339a06-ad16-4cb4-b698-0a2ee937e09c",
   "metadata": {},
   "outputs": [
    {
     "name": "stdin",
     "output_type": "stream",
     "text": [
      "What is your language? es\n"
     ]
    },
    {
     "name": "stdout",
     "output_type": "stream",
     "text": [
      "Hola Glenn\n",
      "Hola Stacy\n"
     ]
    }
   ],
   "source": [
    "lang = input('What is your language?' )\n",
    "\n",
    "def greet(lang):\n",
    "    if lang == 'es':\n",
    "        return('Hola')\n",
    "    elif lang == 'fr':\n",
    "        return('Bonjour')\n",
    "    else:\n",
    "        return('Hello')\n",
    "\n",
    "print(greet(lang), \"Glenn\")\n",
    "print(greet(lang), \"Stacy\")"
   ]
  },
  {
   "cell_type": "code",
   "execution_count": 18,
   "id": "c797ff73-c0af-4e23-9bf4-ba231282a28a",
   "metadata": {},
   "outputs": [
    {
     "name": "stdout",
     "output_type": "stream",
     "text": [
      "8\n"
     ]
    }
   ],
   "source": [
    "def addtwo(a,b):\n",
    "    added = a + b \n",
    "    return(added)\n",
    "    \n",
    "x = addtwo(3,5)\n",
    "print(x)"
   ]
  },
  {
   "cell_type": "code",
   "execution_count": 26,
   "id": "1cc1ad81-3c69-4714-b6b4-0c818e59c0c9",
   "metadata": {},
   "outputs": [
    {
     "name": "stdin",
     "output_type": "stream",
     "text": [
      "Enter your hours:  45\n",
      "Enter your rate:  3\n"
     ]
    },
    {
     "name": "stdout",
     "output_type": "stream",
     "text": [
      "Pay:  142.5\n"
     ]
    }
   ],
   "source": [
    "#Exercise_4.6_Chapter_4 - https://www.youtube.com/watch?v=ksvGhDsjtpw\n",
    "\n",
    "def computepay(hours,rate):\n",
    "   # print(\"In computepay\", hours, rate)\n",
    "    if hours>40:\n",
    "        reg = hours * rate \n",
    "        oth = (hours - 40.00) * (rate * 0.5)\n",
    "        otp = reg + oth\n",
    "\n",
    "    else:\n",
    "        otp = hours * rate\n",
    "\n",
    "   # print(\"Returning\", otp)\n",
    "    return(otp)\n",
    "    \n",
    "hrs = input(\"Enter your hours: \")\n",
    "rte = input(\"Enter your rate: \")\n",
    "fh = float(hrs)\n",
    "fr = float(rte) \n",
    "\n",
    "xp = computepay(fh, fr)\n",
    "\n",
    "print(\"Pay: \",xp)"
   ]
  },
  {
   "cell_type": "code",
   "execution_count": null,
   "id": "df6f2f59-d5cd-43aa-a4a9-9e0e93824b45",
   "metadata": {},
   "outputs": [],
   "source": []
  }
 ],
 "metadata": {
  "kernelspec": {
   "display_name": "Python 3 (ipykernel)",
   "language": "python",
   "name": "python3"
  },
  "language_info": {
   "codemirror_mode": {
    "name": "ipython",
    "version": 3
   },
   "file_extension": ".py",
   "mimetype": "text/x-python",
   "name": "python",
   "nbconvert_exporter": "python",
   "pygments_lexer": "ipython3",
   "version": "3.10.7"
  }
 },
 "nbformat": 4,
 "nbformat_minor": 5
}
