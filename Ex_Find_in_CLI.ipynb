{
 "cells": [
  {
   "cell_type": "code",
   "execution_count": 1,
   "id": "3fdc5e95-e569-44f9-b1b8-e4791bc0e930",
   "metadata": {},
   "outputs": [
    {
     "name": "stdin",
     "output_type": "stream",
     "text": [
      "Enter your name:  Etienne\n"
     ]
    },
    {
     "name": "stdout",
     "output_type": "stream",
     "text": [
      "Hello Etienne\n"
     ]
    }
   ],
   "source": [
    "nzt = input('Enter your name: ')\n",
    "print(\"Hello\", nzt)"
   ]
  },
  {
   "cell_type": "code",
   "execution_count": null,
   "id": "1cd4cf3e-5bc9-44e0-8962-39e82a7ecdce",
   "metadata": {},
   "outputs": [],
   "source": []
  }
 ],
 "metadata": {
  "kernelspec": {
   "display_name": "Python 3 (ipykernel)",
   "language": "python",
   "name": "python3"
  },
  "language_info": {
   "codemirror_mode": {
    "name": "ipython",
    "version": 3
   },
   "file_extension": ".py",
   "mimetype": "text/x-python",
   "name": "python",
   "nbconvert_exporter": "python",
   "pygments_lexer": "ipython3",
   "version": "3.10.7"
  }
 },
 "nbformat": 4,
 "nbformat_minor": 5
}
