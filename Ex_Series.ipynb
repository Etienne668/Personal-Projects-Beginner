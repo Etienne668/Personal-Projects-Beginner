{
 "cells": [
  {
   "cell_type": "code",
   "execution_count": 1,
   "id": "dcda3991-d151-4a10-a4da-8c08c0627862",
   "metadata": {},
   "outputs": [],
   "source": [
    "import pandas as pd"
   ]
  },
  {
   "cell_type": "code",
   "execution_count": 2,
   "id": "ea77f932-2963-4745-a9ff-9eb450fbf7c5",
   "metadata": {},
   "outputs": [],
   "source": [
    "my_ds = ['0', '1', '8', '10']"
   ]
  },
  {
   "cell_type": "code",
   "execution_count": 3,
   "id": "3a5df050-25e2-450b-83f9-905a12d12af2",
   "metadata": {},
   "outputs": [],
   "source": [
    "my_var = pd.Series(my_ds)"
   ]
  },
  {
   "cell_type": "code",
   "execution_count": 4,
   "id": "1a1e9203-73ba-43d5-891c-85ebd5ceeadc",
   "metadata": {},
   "outputs": [
    {
     "name": "stdout",
     "output_type": "stream",
     "text": [
      "0     0\n",
      "1     1\n",
      "2     8\n",
      "3    10\n",
      "dtype: object\n"
     ]
    }
   ],
   "source": [
    "print(my_var)"
   ]
  },
  {
   "cell_type": "code",
   "execution_count": 7,
   "id": "c873f015-59b8-4160-bf76-2c4a28d91868",
   "metadata": {},
   "outputs": [
    {
     "name": "stdout",
     "output_type": "stream",
     "text": [
      "10\n"
     ]
    }
   ],
   "source": [
    "print(my_var[3])"
   ]
  },
  {
   "cell_type": "code",
   "execution_count": 23,
   "id": "116f6834-7bdc-480b-a271-3309a50e0d43",
   "metadata": {},
   "outputs": [],
   "source": [
    "a = [25.3454324, 26.3543, 27.5343]"
   ]
  },
  {
   "cell_type": "code",
   "execution_count": 24,
   "id": "3f9dc149-61f1-4774-a01e-f6ce59039339",
   "metadata": {},
   "outputs": [],
   "source": [
    "# adds an index to the series (= to the column)\n",
    "myage = pd.Series(a, index = [2020, 2021, 2022])"
   ]
  },
  {
   "cell_type": "code",
   "execution_count": 25,
   "id": "d5491176-1b08-481c-bf8a-85824596ef69",
   "metadata": {},
   "outputs": [
    {
     "name": "stdout",
     "output_type": "stream",
     "text": [
      "2020    25.345432\n",
      "2021    26.354300\n",
      "2022    27.534300\n",
      "dtype: float64\n"
     ]
    }
   ],
   "source": [
    "print(myage)"
   ]
  },
  {
   "cell_type": "code",
   "execution_count": 26,
   "id": "3783f30e-c312-4853-8a19-8a7a35bdcf7b",
   "metadata": {},
   "outputs": [
    {
     "data": {
      "text/plain": [
       "list"
      ]
     },
     "execution_count": 26,
     "metadata": {},
     "output_type": "execute_result"
    }
   ],
   "source": [
    "type(a)"
   ]
  },
  {
   "cell_type": "code",
   "execution_count": 27,
   "id": "be2c71d3-4334-4d14-9230-e193658ca534",
   "metadata": {},
   "outputs": [
    {
     "data": {
      "text/plain": [
       "pandas.core.series.Series"
      ]
     },
     "execution_count": 27,
     "metadata": {},
     "output_type": "execute_result"
    }
   ],
   "source": [
    "type(myage)"
   ]
  },
  {
   "cell_type": "code",
   "execution_count": 34,
   "id": "4960b356-d114-46b1-964d-1798fd63373b",
   "metadata": {},
   "outputs": [
    {
     "name": "stdout",
     "output_type": "stream",
     "text": [
      "2020    25\n",
      "2021    26\n",
      "2022    27\n",
      "dtype: int64\n"
     ]
    }
   ],
   "source": [
    "#to convert float to int (do the same with 'str' to convert to string\n",
    "print(myage.astype(int))"
   ]
  },
  {
   "cell_type": "code",
   "execution_count": 29,
   "id": "a6a6fb9a-9572-4d02-811a-e585d616c50c",
   "metadata": {},
   "outputs": [
    {
     "data": {
      "text/plain": [
       "2020    25.345\n",
       "2021    26.354\n",
       "2022    27.534\n",
       "dtype: float64"
      ]
     },
     "execution_count": 29,
     "metadata": {},
     "output_type": "execute_result"
    }
   ],
   "source": [
    "pd.Series(myage).round(3)"
   ]
  },
  {
   "cell_type": "code",
   "execution_count": 39,
   "id": "f32f2b0f-a2d1-411f-a212-0cd486d2491f",
   "metadata": {},
   "outputs": [
    {
     "name": "stdout",
     "output_type": "stream",
     "text": [
      "60\n"
     ]
    }
   ],
   "source": [
    "print(pd.options.display.max_rows)"
   ]
  },
  {
   "cell_type": "code",
   "execution_count": 40,
   "id": "aa653295-622c-4ba2-a435-c8aa4f99abdd",
   "metadata": {},
   "outputs": [],
   "source": [
    "pd.options.display.max_rows = 1000"
   ]
  },
  {
   "cell_type": "code",
   "execution_count": null,
   "id": "d2d4839c-36db-4958-9aa2-e3e5fd8c3662",
   "metadata": {},
   "outputs": [],
   "source": []
  }
 ],
 "metadata": {
  "kernelspec": {
   "display_name": "Python 3 (ipykernel)",
   "language": "python",
   "name": "python3"
  },
  "language_info": {
   "codemirror_mode": {
    "name": "ipython",
    "version": 3
   },
   "file_extension": ".py",
   "mimetype": "text/x-python",
   "name": "python",
   "nbconvert_exporter": "python",
   "pygments_lexer": "ipython3",
   "version": "3.10.7"
  }
 },
 "nbformat": 4,
 "nbformat_minor": 5
}
