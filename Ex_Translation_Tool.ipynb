{
 "cells": [
  {
   "cell_type": "code",
   "execution_count": 2,
   "id": "d14d7a00-f489-4c45-85b5-6487c42941ab",
   "metadata": {},
   "outputs": [
    {
     "name": "stdin",
     "output_type": "stream",
     "text": [
      "What is your name?  Etienne\n"
     ]
    },
    {
     "name": "stdout",
     "output_type": "stream",
     "text": [
      "Oh, I know you pretty girl Etienne!\n"
     ]
    }
   ],
   "source": [
    "nam = input('What is your name? ')\n",
    "print('Oh, I know you pretty girl '+nam+'!')"
   ]
  },
  {
   "cell_type": "code",
   "execution_count": 4,
   "id": "deb924c4-4a27-46d4-852e-eec99a394d9e",
   "metadata": {},
   "outputs": [
    {
     "name": "stdin",
     "output_type": "stream",
     "text": [
      "Europe floor? 3\n"
     ]
    },
    {
     "name": "stdout",
     "output_type": "stream",
     "text": [
      "US floor 4\n"
     ]
    }
   ],
   "source": [
    "inp = input('Europe floor?')\n",
    "usf = int(inp)+1\n",
    "print('US floor',usf)"
   ]
  },
  {
   "cell_type": "code",
   "execution_count": 35,
   "id": "3dd8d932-f1df-4468-9ab4-40ddc2d2acda",
   "metadata": {},
   "outputs": [],
   "source": [
    "from deep_translator import GoogleTranslator"
   ]
  },
  {
   "cell_type": "code",
   "execution_count": 40,
   "id": "15150b26-547e-4f98-ab46-65b503e8b3d4",
   "metadata": {},
   "outputs": [
    {
     "name": "stdin",
     "output_type": "stream",
     "text": [
      "Inscrivez le texte à traduire :  Bonjour comment allez-vous\n",
      "En quelle langue voulez-vous le traduire ? Tapez l'abbréviation du langage désiré. en\n"
     ]
    },
    {
     "name": "stdout",
     "output_type": "stream",
     "text": [
      "Good morning, how are you doing\n"
     ]
    }
   ],
   "source": [
    "#to translate text\n",
    "from deep_translator import GoogleTranslator\n",
    "inp1 = input('Inscrivez le texte à traduire : ')\n",
    "inp2 = input(\"En quelle langue voulez-vous le traduire ? Tapez l'abbréviation du langage désiré.\")\n",
    "trans = GoogleTranslator(source='auto',target=inp2).translate(inp1)\n",
    "print(trans)"
   ]
  },
  {
   "cell_type": "code",
   "execution_count": null,
   "id": "c20bb6e2-356c-4673-a8a2-d7bea17ef68c",
   "metadata": {},
   "outputs": [],
   "source": []
  }
 ],
 "metadata": {
  "kernelspec": {
   "display_name": "Python 3 (ipykernel)",
   "language": "python",
   "name": "python3"
  },
  "language_info": {
   "codemirror_mode": {
    "name": "ipython",
    "version": 3
   },
   "file_extension": ".py",
   "mimetype": "text/x-python",
   "name": "python",
   "nbconvert_exporter": "python",
   "pygments_lexer": "ipython3",
   "version": "3.10.7"
  }
 },
 "nbformat": 4,
 "nbformat_minor": 5
}
