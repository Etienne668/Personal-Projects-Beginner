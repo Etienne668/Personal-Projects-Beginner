{
 "cells": [
  {
   "cell_type": "code",
   "execution_count": 9,
   "id": "1d4910e9-441f-4965-8642-7a8934264503",
   "metadata": {},
   "outputs": [
    {
     "name": "stdin",
     "output_type": "stream",
     "text": [
      "Enter a file name:  Test_Python_FileReading_1.txt\n"
     ]
    },
    {
     "name": "stdout",
     "output_type": "stream",
     "text": [
      "THIS IS A FILE TEST.\n",
      "THIS IS THE NEW LINE\n",
      "\n",
      "IF YOU ARE HERE, IT IS A SUCCESS!\n"
     ]
    }
   ],
   "source": [
    "entry = input('Enter a file name: ')\n",
    "fread = open(entry)\n",
    "for line in fread:\n",
    "    line = line.upper()\n",
    "    line = line.strip()\n",
    "    print(line)\n",
    "\n",
    "\n"
   ]
  },
  {
   "cell_type": "code",
   "execution_count": null,
   "id": "af247222-c637-41d2-9c6d-5a9fe2bc822f",
   "metadata": {},
   "outputs": [],
   "source": [
    "fname = input('Enter a file name: ')\n",
    "\n",
    "try:\n",
    "    fread = open(fname)\n",
    "except:\n",
    "    print('The file could not be found: ', fname)\n",
    "    quit()\n",
    "\n",
    "for line in fread:\n",
    "    line = line.strip()\n",
    "    print(line.upper())\n",
    "\n",
    "\n"
   ]
  },
  {
   "cell_type": "code",
   "execution_count": null,
   "id": "a4c1d78b-f9e6-4ea9-ba82-cbc9de842c9b",
   "metadata": {},
   "outputs": [],
   "source": []
  }
 ],
 "metadata": {
  "kernelspec": {
   "display_name": "Python 3 (ipykernel)",
   "language": "python",
   "name": "python3"
  },
  "language_info": {
   "codemirror_mode": {
    "name": "ipython",
    "version": 3
   },
   "file_extension": ".py",
   "mimetype": "text/x-python",
   "name": "python",
   "nbconvert_exporter": "python",
   "pygments_lexer": "ipython3",
   "version": "3.10.7"
  }
 },
 "nbformat": 4,
 "nbformat_minor": 5
}
