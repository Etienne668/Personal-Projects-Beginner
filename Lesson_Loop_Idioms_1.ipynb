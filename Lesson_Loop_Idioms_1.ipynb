{
 "cells": [
  {
   "cell_type": "markdown",
   "id": "f9ac61f8-8e94-4057-a5e3-d357ec84d3c4",
   "metadata": {},
   "source": [
    "# Loop idioms_delimited loop"
   ]
  },
  {
   "cell_type": "code",
   "execution_count": 1,
   "id": "c58e2483-3878-49bd-8fad-edd8f26b57b9",
   "metadata": {},
   "outputs": [
    {
     "name": "stdout",
     "output_type": "stream",
     "text": [
      "Before -1\n",
      "3 3\n",
      "41 41\n",
      "41 13\n",
      "41 9\n",
      "74 74\n",
      "74 15\n",
      "After 74\n"
     ]
    }
   ],
   "source": [
    "largest_so_far = -1 \n",
    "print('Before', largest_so_far)\n",
    "for the_num in [3, 41, 13, 9, 74, 15]:\n",
    "    if the_num > largest_so_far:\n",
    "        largest_so_far = the_num\n",
    "    print(largest_so_far, the_num)\n",
    "print('After', largest_so_far)"
   ]
  },
  {
   "cell_type": "markdown",
   "id": "812f87e7-bd66-4369-a00f-4ce064ff3537",
   "metadata": {},
   "source": [
    "# Counting in a loop"
   ]
  },
  {
   "cell_type": "code",
   "execution_count": 4,
   "id": "9df7fc1f-bf9f-486a-b6f0-63851be420e4",
   "metadata": {},
   "outputs": [
    {
     "name": "stdout",
     "output_type": "stream",
     "text": [
      "Before 0\n",
      "1 9\n",
      "2 42\n",
      "3 12\n",
      "4 3\n",
      "5 74\n",
      "6 15\n",
      "After 6\n"
     ]
    }
   ],
   "source": [
    "zork = 0 \n",
    "print('Before', zork)\n",
    "for thing in [9, 42, 12, 3, 74, 15]:\n",
    "      zork = zork +1\n",
    "      print(zork, thing)\n",
    "print('After', zork) "
   ]
  },
  {
   "cell_type": "markdown",
   "id": "f5207d22-52ab-4244-bb34-2fea1865bf35",
   "metadata": {},
   "source": [
    "# Summing in a loop "
   ]
  },
  {
   "cell_type": "markdown",
   "id": "10e4d3c4-e91f-4e45-ad39-0a905b3e8f1f",
   "metadata": {},
   "source": [
    "zork = 0 \n",
    "print('Before', zork)\n",
    "for thing in [9, 42, 12, 3, 74, 15]:\n",
    "    zork = zork + thing\n",
    "    print(zork, thing)\n",
    "print('After', zork)"
   ]
  },
  {
   "cell_type": "code",
   "execution_count": 7,
   "id": "abde39bb-846b-470c-a717-61aec52797bd",
   "metadata": {},
   "outputs": [
    {
     "name": "stdout",
     "output_type": "stream",
     "text": [
      "Before 0 0\n",
      "1 9\n",
      "2 51\n",
      "3 63\n",
      "4 66\n",
      "5 140\n",
      "6 155\n",
      "After 6 155 25.833333333333332\n"
     ]
    }
   ],
   "source": [
    "#Finding the average in a Loop\n",
    "\n",
    "count = 0 \n",
    "sum = 0 \n",
    "print('Before', count, sum)\n",
    "for thing in [9, 42, 12, 3, 74, 15]:\n",
    "    count = count + 1\n",
    "    sum = sum + thing\n",
    "    print (count, sum)\n",
    "print('After', count, sum, sum/count)"
   ]
  },
  {
   "cell_type": "markdown",
   "id": "7d2d3a58-8b38-4c07-9c27-52edbb494037",
   "metadata": {},
   "source": [
    "# Filtering in a loop "
   ]
  },
  {
   "cell_type": "code",
   "execution_count": null,
   "id": "c15f991c-d96d-4f8d-9c9c-456ab0a08c6f",
   "metadata": {},
   "outputs": [
    {
     "name": "stdout",
     "output_type": "stream",
     "text": [
      "Before\n",
      "Large number 42\n",
      "Large number 74\n",
      "After\n"
     ]
    }
   ],
   "source": [
    "# We use an if statement in the loop to catch / filter the values we are looking for \n",
    "\n",
    "print('Before') \n",
    "for value in [9, 42, 12, 3, 74, 15]:\n",
    "    if value > 20 :\n",
    "        print('Large number', value)\n",
    "print('After')"
   ]
  },
  {
   "cell_type": "markdown",
   "id": "4463b55c-9bc9-40d7-b17b-dafdb8756937",
   "metadata": {},
   "source": [
    "# Search using a Boolean Variable "
   ]
  },
  {
   "cell_type": "code",
   "execution_count": 21,
   "id": "2f066155-9741-43b4-86be-28c0c3bd6957",
   "metadata": {},
   "outputs": [
    {
     "name": "stdout",
     "output_type": "stream",
     "text": [
      "Before False\n",
      "False 9\n",
      "False 42\n",
      "False 12\n",
      "True 3\n",
      "After True\n"
     ]
    }
   ],
   "source": [
    "#If we just want to search and know if a value was found, we use a variable that starts at False and is set to True as soon as we find what we are looking for. \n",
    "\n",
    "found = False\n",
    "print('Before', found)\n",
    "for value in [9, 42, 12, 3, 74, 15]:\n",
    "    if value == 3:\n",
    "        found = True\n",
    "        print(found, value)\n",
    "        break\n",
    "    print(found, value)\n",
    "print('After', found)"
   ]
  },
  {
   "cell_type": "markdown",
   "id": "8dcebdcd-ecfa-43fe-a3c6-533f4c7c7581",
   "metadata": {},
   "source": [
    "# How to find the largest and smallest value"
   ]
  },
  {
   "cell_type": "code",
   "execution_count": 25,
   "id": "b6926d6c-f2f8-442e-908e-e7ebf9f33930",
   "metadata": {},
   "outputs": [
    {
     "name": "stdout",
     "output_type": "stream",
     "text": [
      "Before -1\n",
      "9 9\n",
      "42 42\n",
      "42 12\n",
      "42 3\n",
      "74 74\n",
      "74 15\n",
      "After 74\n"
     ]
    }
   ],
   "source": [
    "largest_so_far = -1 \n",
    "print('Before', largest_so_far)\n",
    "for the_num in [9, 42, 12, 3, 74, 15]:\n",
    "    if the_num > largest_so_far:\n",
    "        largest_so_far = the_num\n",
    "    print(largest_so_far, the_num)\n",
    "print('After', largest_so_far)\n"
   ]
  },
  {
   "cell_type": "code",
   "execution_count": 43,
   "id": "f5d2cd04-53aa-4ccd-a510-6af9230c1601",
   "metadata": {},
   "outputs": [
    {
     "name": "stdout",
     "output_type": "stream",
     "text": [
      "Before 9\n",
      "9 9\n",
      "9 42\n",
      "9 12\n",
      "3 3\n",
      "3 74\n",
      "3 15\n",
      "After 3\n"
     ]
    }
   ],
   "source": [
    "smallest_so_far = the_num\n",
    "print('Before', smallest_so_far)\n",
    "for the_num in [9, 42, 12, 3, 74, 15]:\n",
    "    if smallest_so_far > the_num :\n",
    "        smallest_so_far = the_num\n",
    "    print(smallest_so_far, the_num)\n",
    "print('After', smallest_so_far)"
   ]
  },
  {
   "cell_type": "markdown",
   "id": "ebb566ac-2145-4558-8bfe-0c16c19ced46",
   "metadata": {},
   "source": [
    "# Introducing the \"None\" argument"
   ]
  },
  {
   "cell_type": "code",
   "execution_count": 48,
   "id": "430b3da9-135b-4a6b-a789-b58e5a908048",
   "metadata": {},
   "outputs": [
    {
     "name": "stdout",
     "output_type": "stream",
     "text": [
      "Before\n",
      "9 9\n",
      "9 42\n",
      "9 12\n",
      "3 3\n",
      "3 74\n",
      "3 15\n",
      "After 3\n"
     ]
    }
   ],
   "source": [
    "smallest = None\n",
    "print('Before')\n",
    "for value in [9, 42, 12, 3, 74, 15]:\n",
    "    if smallest is None:\n",
    "        smallest = value\n",
    "    elif value < smallest:\n",
    "        smallest = value\n",
    "    print(smallest, value) \n",
    "print('After', smallest)"
   ]
  },
  {
   "cell_type": "markdown",
   "id": "014da210-ca94-4685-b067-fa4536325b90",
   "metadata": {},
   "source": [
    "# Introducing the \"is\" and \"is not\""
   ]
  },
  {
   "cell_type": "markdown",
   "id": "3418ba00-2dd7-49c0-ac67-cfdb0db52866",
   "metadata": {},
   "source": [
    "\"Is\" is stronger than \"==\" as it not only validates a value but also the format (int vs float). Just use it on none or true false."
   ]
  },
  {
   "cell_type": "markdown",
   "id": "1091d3f8-df3d-4c19-a01e-3f891d7a7100",
   "metadata": {},
   "source": [
    "# Exercises "
   ]
  },
  {
   "cell_type": "code",
   "execution_count": null,
   "id": "96368789-2e35-42b0-a56e-f980f0cd4ae4",
   "metadata": {},
   "outputs": [],
   "source": [
    "# URL : https://www.youtube.com/watch?v=kjxXZQw0uPg"
   ]
  },
  {
   "cell_type": "code",
   "execution_count": 58,
   "id": "32d34e7b-57a5-4f9c-a96a-7ecc8afe78ff",
   "metadata": {},
   "outputs": [
    {
     "name": "stdin",
     "output_type": "stream",
     "text": [
      "Enter a number:  fds\n"
     ]
    },
    {
     "name": "stdout",
     "output_type": "stream",
     "text": [
      "Invalid input\n"
     ]
    },
    {
     "name": "stdin",
     "output_type": "stream",
     "text": [
      "Enter a number:  done\n"
     ]
    },
    {
     "name": "stdout",
     "output_type": "stream",
     "text": [
      "ALL DONE\n",
      "3.0 1 3.0\n"
     ]
    }
   ],
   "source": [
    "num = 0 \n",
    "tot = 0.0 \n",
    "\n",
    "while True:\n",
    "    sval = input('Enter a number: ')\n",
    "    if sval =='done':\n",
    "        break\n",
    "    try:\n",
    "        fval = float(sval)\n",
    "    except:\n",
    "        print('Invalid input')\n",
    "    #print(sval) \n",
    "    num = num+1\n",
    "    tot = tot + fval\n",
    "    \n",
    "print('ALL DONE') \n",
    "print(tot, num, tot/num)\n",
    "    "
   ]
  },
  {
   "cell_type": "code",
   "execution_count": null,
   "id": "c1b30057-f268-4b0d-a9ea-b12d7225f619",
   "metadata": {},
   "outputs": [],
   "source": []
  }
 ],
 "metadata": {
  "kernelspec": {
   "display_name": "Python 3 (ipykernel)",
   "language": "python",
   "name": "python3"
  },
  "language_info": {
   "codemirror_mode": {
    "name": "ipython",
    "version": 3
   },
   "file_extension": ".py",
   "mimetype": "text/x-python",
   "name": "python",
   "nbconvert_exporter": "python",
   "pygments_lexer": "ipython3",
   "version": "3.10.7"
  }
 },
 "nbformat": 4,
 "nbformat_minor": 5
}
