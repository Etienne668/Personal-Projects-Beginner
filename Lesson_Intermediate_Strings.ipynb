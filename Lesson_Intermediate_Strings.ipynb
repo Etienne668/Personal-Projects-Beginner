{
 "cells": [
  {
   "cell_type": "markdown",
   "id": "1b4fc2b0-ab9b-49a2-a3de-8d3630c95c36",
   "metadata": {},
   "source": [
    "# Slicing strings"
   ]
  },
  {
   "cell_type": "code",
   "execution_count": null,
   "id": "a903ec9a-245c-409a-afc1-5eca9c25dfac",
   "metadata": {},
   "outputs": [],
   "source": [
    "#to read as \"print 's' sub through 0 to 4\"\n",
    "\n",
    "s = 'Monthy Python'\n",
    "print(s[0:4])\n"
   ]
  },
  {
   "cell_type": "code",
   "execution_count": 12,
   "id": "7f163af4-0a92-43ec-99ef-27f1fc0b6706",
   "metadata": {},
   "outputs": [
    {
     "name": "stdout",
     "output_type": "stream",
     "text": [
      "Mo\n",
      "ython\n",
      "Monthy Python\n",
      "Monthy Python\n"
     ]
    }
   ],
   "source": [
    "#Leaving blank means \"beginning / end of the string\"\n",
    "\n",
    "print(s[:2])\n",
    "print(s[8:])\n",
    "print(s) \n",
    "print(s[:])"
   ]
  },
  {
   "cell_type": "code",
   "execution_count": 16,
   "id": "ad62f2a5-8257-4ae7-a727-b968d2a50f9a",
   "metadata": {},
   "outputs": [
    {
     "name": "stdout",
     "output_type": "stream",
     "text": [
      "MontyPython\n"
     ]
    }
   ],
   "source": [
    "#When the + operator is applied to strings, it means concatenator\n",
    "\n",
    "print('Monty'+'Python')\n",
    "\n",
    "#Need to add a space with this function"
   ]
  },
  {
   "cell_type": "markdown",
   "id": "43e73603-d02c-41c2-be94-5b4cc92c0cd6",
   "metadata": {},
   "source": [
    "# Using 'in' as logical operator"
   ]
  },
  {
   "cell_type": "markdown",
   "id": "b99a86ea-bb27-42d6-ae39-f010b0895e9c",
   "metadata": {},
   "source": [
    "- 'In' Keyword can also be used to check to see if one string is 'in' another string\n",
    "- The 'in' expression is a logical expression that returns True or False and can be used in an 'if' statement"
   ]
  },
  {
   "cell_type": "code",
   "execution_count": 18,
   "id": "7910c820-a564-4bb1-938d-0d68f370cf4c",
   "metadata": {},
   "outputs": [
    {
     "data": {
      "text/plain": [
       "True"
      ]
     },
     "execution_count": 18,
     "metadata": {},
     "output_type": "execute_result"
    }
   ],
   "source": [
    "fruit = 'banana'\n",
    "'n' in fruit "
   ]
  },
  {
   "cell_type": "code",
   "execution_count": 19,
   "id": "6b273e60-c808-4c7e-ab69-e9f3db1c1ff6",
   "metadata": {},
   "outputs": [
    {
     "data": {
      "text/plain": [
       "False"
      ]
     },
     "execution_count": 19,
     "metadata": {},
     "output_type": "execute_result"
    }
   ],
   "source": [
    "'m' in fruit"
   ]
  },
  {
   "cell_type": "code",
   "execution_count": 20,
   "id": "5a490899-9dfd-421f-96ab-75f2eb5ea1ad",
   "metadata": {},
   "outputs": [
    {
     "data": {
      "text/plain": [
       "True"
      ]
     },
     "execution_count": 20,
     "metadata": {},
     "output_type": "execute_result"
    }
   ],
   "source": [
    "'nan' in fruit"
   ]
  },
  {
   "cell_type": "code",
   "execution_count": 21,
   "id": "060d3f7e-32dc-4750-95f4-33bfcacb677b",
   "metadata": {},
   "outputs": [
    {
     "name": "stdout",
     "output_type": "stream",
     "text": [
      "Found it!\n"
     ]
    }
   ],
   "source": [
    "if 'a' in fruit:\n",
    "    print('Found it!')"
   ]
  },
  {
   "cell_type": "markdown",
   "id": "3b85c03a-8563-415c-bfbc-2115c22e6c25",
   "metadata": {},
   "source": [
    "# String Library "
   ]
  },
  {
   "cell_type": "markdown",
   "id": "d7ded057-a559-4db7-8dd8-cd99946892da",
   "metadata": {},
   "source": [
    "- Python has a number of string functions which are in the string library \n",
    "- These functions are already built into every string - we invoke them by appending the function to the string variable \n",
    "- These functions do not modify the original string, instead they return a new string that has been altered"
   ]
  },
  {
   "cell_type": "code",
   "execution_count": 24,
   "id": "78ba1b53-62d6-4645-b8f2-23904e30ab91",
   "metadata": {},
   "outputs": [
    {
     "name": "stdout",
     "output_type": "stream",
     "text": [
      "hello bob\n"
     ]
    }
   ],
   "source": [
    "greet = 'Hello Bob'\n",
    "zap = greet.lower()\n",
    "print(zap)"
   ]
  },
  {
   "cell_type": "code",
   "execution_count": 28,
   "id": "9280ca76-9c67-4e5f-a21d-e5a191738aaa",
   "metadata": {},
   "outputs": [
    {
     "data": {
      "text/plain": [
       "str"
      ]
     },
     "execution_count": 28,
     "metadata": {},
     "output_type": "execute_result"
    }
   ],
   "source": [
    "type(greet)"
   ]
  },
  {
   "cell_type": "raw",
   "id": "25840c86-e166-4d99-9f78-b74e96319518",
   "metadata": {},
   "source": [
    "Built-in functions for strings:\n",
    "\n",
    "capitalize, casefold, center, count, encode, endswith, expandtable, find, format, format_map, index, isalnum, isalpha, isdecimal, isdigit, isidentifier, islower, isnumeric, isprintable, isspace, istitle, isupper, join, ljust, lower, lstrip, maketrans, partition, replace, rfind, rindex, rjust, rpartition, rsplit, split, splitlines, startswith, strip, swapcase, title, translate, upper, zfill"
   ]
  },
  {
   "cell_type": "raw",
   "id": "805b63ad-5086-4e20-866d-dc71ff86d3ed",
   "metadata": {},
   "source": [
    "# Searching a string\n",
    "\n",
    "find() \n",
    "-> find the position of a letter or string within a word \n",
    "-> prints the 1st letter position\n",
    "-> need to convert first to lower case to make sure we search for a string regardless of case\n",
    "\n",
    "# Making everything upper case \n",
    "\n",
    "str.upper()\n",
    "str.lower()\n",
    "\n",
    "# Search and replace\n",
    "\n",
    "str.replace(to be replaced, to replace)\n",
    "\n",
    "# Stripping Whitespace\n",
    "\n",
    "lstrip() remove left whitespace \n",
    "rstrip() remove right whitespace\n",
    "strip() remove both sides whitespace "
   ]
  },
  {
   "cell_type": "code",
   "execution_count": 30,
   "id": "984e421a-bfae-411b-8b5b-80994cd99a14",
   "metadata": {},
   "outputs": [
    {
     "data": {
      "text/plain": [
       "'Hello Bob'"
      ]
     },
     "execution_count": 30,
     "metadata": {},
     "output_type": "execute_result"
    }
   ],
   "source": [
    "greet = '     Hello Bob'\n",
    "greet.lstrip()"
   ]
  },
  {
   "cell_type": "raw",
   "id": "4485cda3-4f8f-4802-a2d6-8d6d34a23f9f",
   "metadata": {},
   "source": [
    "# Prefixes\n",
    "\n",
    "str.startswith('xxx')\n",
    "-> Asks if True or False, a string starts with 'xxx'"
   ]
  },
  {
   "cell_type": "code",
   "execution_count": 32,
   "id": "ccd5a030-a3d6-45a9-910f-e2502334a205",
   "metadata": {},
   "outputs": [
    {
     "name": "stdout",
     "output_type": "stream",
     "text": [
      "21\n"
     ]
    }
   ],
   "source": [
    "# Parsing and extracting\n",
    "\n",
    "data = 'From stephen.marquard@uct.ac.za Sat Jan 5'\n",
    "atpos = data.find('@')\n",
    "print(atpos)"
   ]
  },
  {
   "cell_type": "code",
   "execution_count": 34,
   "id": "cda5bb68-815d-49c0-95aa-b5af184c8862",
   "metadata": {},
   "outputs": [
    {
     "name": "stdout",
     "output_type": "stream",
     "text": [
      "31\n"
     ]
    }
   ],
   "source": [
    "sppos = data.find(' ', atpos)\n",
    "print(sppos)"
   ]
  },
  {
   "cell_type": "code",
   "execution_count": 36,
   "id": "b98a1a55-81c0-4573-aa57-77e527a51183",
   "metadata": {},
   "outputs": [
    {
     "name": "stdout",
     "output_type": "stream",
     "text": [
      "uct.ac.za\n"
     ]
    }
   ],
   "source": [
    "host = data[atpos+1 : sppos]\n",
    "print(host)"
   ]
  },
  {
   "cell_type": "code",
   "execution_count": null,
   "id": "9ea86bc7-8e6b-4c7e-a325-38b34d44f253",
   "metadata": {},
   "outputs": [],
   "source": []
  }
 ],
 "metadata": {
  "kernelspec": {
   "display_name": "Python 3 (ipykernel)",
   "language": "python",
   "name": "python3"
  },
  "language_info": {
   "codemirror_mode": {
    "name": "ipython",
    "version": 3
   },
   "file_extension": ".py",
   "mimetype": "text/x-python",
   "name": "python",
   "nbconvert_exporter": "python",
   "pygments_lexer": "ipython3",
   "version": "3.10.7"
  }
 },
 "nbformat": 4,
 "nbformat_minor": 5
}
