{
 "cells": [
  {
   "cell_type": "code",
   "execution_count": 1,
   "id": "5f934763-cda6-49c9-af2d-ab93bd0676f5",
   "metadata": {},
   "outputs": [],
   "source": [
    "import PyPDF2"
   ]
  },
  {
   "cell_type": "code",
   "execution_count": 2,
   "id": "ebd1163a-ec7e-4a12-882f-0571f4e6c776",
   "metadata": {},
   "outputs": [],
   "source": [
    "from PyPDF2 import PdfReader"
   ]
  },
  {
   "cell_type": "code",
   "execution_count": 3,
   "id": "23e8c0ed-9e01-4c2c-b6c2-f95f582d27ed",
   "metadata": {},
   "outputs": [],
   "source": [
    "reader = PdfReader(\"/Users/etiennecampredon/Downloads/ISO 26000.pdf\")"
   ]
  },
  {
   "cell_type": "code",
   "execution_count": 24,
   "id": "7f2a2c03-33f5-4356-ba80-8b8418b49aed",
   "metadata": {},
   "outputs": [],
   "source": [
    "page = reader.pages[16]"
   ]
  },
  {
   "cell_type": "code",
   "execution_count": 27,
   "id": "e3605621-a3aa-447c-b86c-9c3b9f0e5298",
   "metadata": {},
   "outputs": [
    {
     "name": "stdout",
     "output_type": "stream",
     "text": [
      "ISO 26000:2010(F) \n",
      "© ISO 2010 – Tous droits réservés  xi\n",
      " Tableau 2 — Questions centrales et domai nes d'action de responsabilité sociétale \n",
      "Questions centrales et domaines d'action Traité au paragraphe \n",
      "Question centrale: Gouvernance de l'organisation 6.2 \n",
      "Question centrale: Droits de l'Homme 6.3 \n",
      " Domaine d'action 1: Devoir de vigilance 6.3.3 \n",
      " Domaine d'action 2: Situations présentant un risque pour les droits de l'Homme 6.3.4 \n",
      " Domaine d'action 3: Prévention de la complicité 6.3.5 \n",
      " Domaine d'action 4: Remédier aux atteintes aux droits de l'Homme 6.3.6 \n",
      " Domaine d'action 5: Discrimination et groupes vulnérables 6.3.7 \n",
      " Domaine d'action 6: Droits civils et politiques 6.3.8 \n",
      " Domaine d'action 7: Droits économiques, sociaux et culturels 6.3.9 \n",
      " Domaine d'action 8: Principes fondamentaux et droits au travail 6.3.10 \n",
      "Question centrale: Relations et conditions de travail 6.4 \n",
      " Domaine d'action 1: Emploi et relations employeur/employé 6.4.3 \n",
      " Domaine d'action 2: Conditions de travail et protection sociale 6.4.4 \n",
      " Domaine d'action 3: Dialogue social 6.4.5 \n",
      " Domaine d'action 4: Santé et sécurité au travail 6.4.6 \n",
      " Domaine d'action 5: Développement du capital humain 6.4.7 \n",
      "Question centrale: L'environnement 6.5 \n",
      " Domaine d'action 1: Prévention de la pollution 6.5.3 \n",
      " Domaine d'action 2: Utilisation durable des ressources 6.5.4 \n",
      " Domaine d'action 3: Atténuation des changements climatiques et adaptation 6.5.5 \n",
      " Domaine d'action 4: Protection de l' environnement, biodiversité et réhabilitation \n",
      "des habitats naturels 6.5.6 \n",
      "Question centrale: Loyauté des pratiques 6.6 \n",
      " Domaine d'action 1: Lutte contre la corruption 6.6.3 \n",
      " Domaine d'action 2: Engagement politique responsable 6.6.4 \n",
      " Domaine d'action 3: Concurrence loyale 6.6.5 \n",
      " Domaine d'action 4: Promotion de la responsabilité sociétale dans la chaîne de \n",
      "valeur 6.6.6 \n",
      " Domaine d'action 5: Respect des droits de propriété 6.6.7 \n",
      "Question centrale: Questions relatives aux consommateurs 6.7 \n",
      " Domaine d'action 1: Pratiques loyales en matière de commercialisation, \n",
      "d'informations et de contrats 6.7.3 \n",
      " Domaine d'action 2: Protection de la santé et de la sécurité des consommateurs 6.7.4 \n",
      " Domaine d'action 3: Consommation durable 6.7.5 \n",
      " Domaine d'action 4: Service après-vente, assistance et résolution des \n",
      "réclamations et litiges pour les consommateurs 6.7.6 \n",
      " Domaine d'action 5: Protection des données et de la vie privée des \n",
      "consommateurs 6.7.7 \n",
      " Domaine d'action 6: Accès aux services essentiels 6.7.8 \n",
      " Domaine d'action 7: Éducation et sensibilisation 6.7.9 \n",
      "Question centrale: Communautés et développement local 6.8 \n",
      " Domaine d'action 1: Implication auprès des communautés 6.8.3 \n",
      " Domaine d'action 2: Éducation et culture 6.8.4 \n",
      " Domaine d'action 3: Création d'emplois et développement des compétences 6.8.5 \n",
      " Domaine d'action 4: Développement des technologies et accès à la technologie 6.8.6 \n",
      " Domaine d'action 5: Création de richesses et de revenus 6.8.7 \n",
      " Domaine d'action 6: La santé 6.8.8 \n",
      " Domaine d'action 7: Investissement dans la société 6.8.9 \n",
      " Afnor, Normes en ligne  le 27/06/2019 à 22:02\n",
      "Pour : SOCIETE FIDUCIAIRE INTERNATIONALE D AUDITNF ISO 26000:2010-11\n",
      "+\n"
     ]
    }
   ],
   "source": [
    "page_16 = print(page.extract_text())"
   ]
  },
  {
   "cell_type": "code",
   "execution_count": 28,
   "id": "4b3fb600-2f4f-481c-a73d-7efd4e3e2918",
   "metadata": {},
   "outputs": [],
   "source": [
    "import pandas as pd"
   ]
  },
  {
   "cell_type": "code",
   "execution_count": 29,
   "id": "dc31534d-01bc-4777-860c-ccc51de7e017",
   "metadata": {},
   "outputs": [],
   "source": [
    "test_df = pd.DataFrame(page_16, dtype=object)"
   ]
  },
  {
   "cell_type": "code",
   "execution_count": 30,
   "id": "64dc0a0d-08e1-47c3-8282-42d54734c9bb",
   "metadata": {},
   "outputs": [
    {
     "data": {
      "text/html": [
       "<div>\n",
       "<style scoped>\n",
       "    .dataframe tbody tr th:only-of-type {\n",
       "        vertical-align: middle;\n",
       "    }\n",
       "\n",
       "    .dataframe tbody tr th {\n",
       "        vertical-align: top;\n",
       "    }\n",
       "\n",
       "    .dataframe thead th {\n",
       "        text-align: right;\n",
       "    }\n",
       "</style>\n",
       "<table border=\"1\" class=\"dataframe\">\n",
       "  <thead>\n",
       "    <tr style=\"text-align: right;\">\n",
       "      <th></th>\n",
       "    </tr>\n",
       "  </thead>\n",
       "  <tbody>\n",
       "  </tbody>\n",
       "</table>\n",
       "</div>"
      ],
      "text/plain": [
       "Empty DataFrame\n",
       "Columns: []\n",
       "Index: []"
      ]
     },
     "execution_count": 30,
     "metadata": {},
     "output_type": "execute_result"
    }
   ],
   "source": [
    "test_df"
   ]
  },
  {
   "cell_type": "code",
   "execution_count": 31,
   "id": "49ccd54f-a231-4775-9c93-b0eb3bbb3c52",
   "metadata": {},
   "outputs": [
    {
     "name": "stdout",
     "output_type": "stream",
     "text": [
      "Empty DataFrame\n",
      "Columns: []\n",
      "Index: []\n"
     ]
    }
   ],
   "source": [
    "print(test_df)"
   ]
  },
  {
   "cell_type": "code",
   "execution_count": 35,
   "id": "8af18923-85be-40ee-a77a-8d1b8d9f57b1",
   "metadata": {},
   "outputs": [
    {
     "data": {
      "text/plain": [
       "NoneType"
      ]
     },
     "execution_count": 35,
     "metadata": {},
     "output_type": "execute_result"
    }
   ],
   "source": [
    "type(page_16)"
   ]
  },
  {
   "cell_type": "code",
   "execution_count": null,
   "id": "aa8c0559-68b0-41ef-82fe-9034a4cb1ec2",
   "metadata": {},
   "outputs": [],
   "source": []
  }
 ],
 "metadata": {
  "kernelspec": {
   "display_name": "Python 3 (ipykernel)",
   "language": "python",
   "name": "python3"
  },
  "language_info": {
   "codemirror_mode": {
    "name": "ipython",
    "version": 3
   },
   "file_extension": ".py",
   "mimetype": "text/x-python",
   "name": "python",
   "nbconvert_exporter": "python",
   "pygments_lexer": "ipython3",
   "version": "3.10.7"
  }
 },
 "nbformat": 4,
 "nbformat_minor": 5
}
