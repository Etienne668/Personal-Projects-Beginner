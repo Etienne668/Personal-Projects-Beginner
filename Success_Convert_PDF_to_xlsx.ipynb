{
 "cells": [
  {
   "cell_type": "code",
   "execution_count": 1,
   "id": "e5788f3d-03c5-4de6-9466-8a7117a682ac",
   "metadata": {},
   "outputs": [],
   "source": [
    "import tabula\n",
    "import pandas as pd"
   ]
  },
  {
   "cell_type": "code",
   "execution_count": 2,
   "id": "f3b16f74-e883-4aa8-83a2-9c3289421453",
   "metadata": {},
   "outputs": [],
   "source": [
    "pdf_in = \"/Users/etiennecampredon/Downloads/ISO 26000.pdf\""
   ]
  },
  {
   "cell_type": "code",
   "execution_count": 3,
   "id": "a364be8d-6f8d-4a42-85f7-cf27804bb785",
   "metadata": {},
   "outputs": [],
   "source": [
    "PDF = tabula.read_pdf(pdf_in, pages = \"all\", multiple_tables = True)"
   ]
  },
  {
   "cell_type": "code",
   "execution_count": 10,
   "id": "08b42771-d4b9-4df0-9f88-000a445d3c9e",
   "metadata": {},
   "outputs": [],
   "source": [
    "pdf_out_xlsx = \"/Users/etiennecampredon/Downloads/ISO 26000.xlsx\"\n",
    "pdf_out_csv = \"/Users/etiennecampredon/Downloads/ISO 26000.csv\""
   ]
  },
  {
   "cell_type": "code",
   "execution_count": 11,
   "id": "c19ff3ec-95f0-462b-9ea7-a5717c5de5ef",
   "metadata": {},
   "outputs": [],
   "source": [
    "PDF = pd.DataFrame(PDF, dtype=object)"
   ]
  },
  {
   "cell_type": "code",
   "execution_count": 13,
   "id": "8f958dbd-55d4-477f-a87a-82ac53024593",
   "metadata": {},
   "outputs": [],
   "source": [
    "PDF.to_excel(pdf_out_xlsx, index = False)"
   ]
  },
  {
   "cell_type": "code",
   "execution_count": null,
   "id": "47f7b61f-7082-4c21-b0d4-57c1fdcd96a0",
   "metadata": {},
   "outputs": [],
   "source": []
  }
 ],
 "metadata": {
  "kernelspec": {
   "display_name": "Python 3 (ipykernel)",
   "language": "python",
   "name": "python3"
  },
  "language_info": {
   "codemirror_mode": {
    "name": "ipython",
    "version": 3
   },
   "file_extension": ".py",
   "mimetype": "text/x-python",
   "name": "python",
   "nbconvert_exporter": "python",
   "pygments_lexer": "ipython3",
   "version": "3.10.7"
  }
 },
 "nbformat": 4,
 "nbformat_minor": 5
}
