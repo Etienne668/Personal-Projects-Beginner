{
 "cells": [
  {
   "cell_type": "code",
   "execution_count": 1,
   "id": "fb539216-fff4-4594-aec5-cbf91651d0c3",
   "metadata": {},
   "outputs": [
    {
     "name": "stdout",
     "output_type": "stream",
     "text": [
      "{'marquard': 3, 'zhen': 5, 'cwen': 2, 'csev': 3}\n"
     ]
    }
   ],
   "source": [
    "ddd = {'marquard':3, 'zhen':5, 'cwen':2, 'csev':3}\n",
    "print(ddd)"
   ]
  },
  {
   "cell_type": "code",
   "execution_count": 4,
   "id": "7b9c13c9-ae06-4dbf-9051-a98537411c10",
   "metadata": {},
   "outputs": [
    {
     "name": "stdout",
     "output_type": "stream",
     "text": [
      "{'csev': 1, 'cwen': 1}\n"
     ]
    }
   ],
   "source": [
    "ddd = dict()\n",
    "ddd['csev'] = 1\n",
    "ddd['cwen'] = 1\n",
    "print(ddd)"
   ]
  },
  {
   "cell_type": "code",
   "execution_count": null,
   "id": "bedfc90d-4c3f-4f7a-aef0-7d5f66e3335b",
   "metadata": {},
   "outputs": [],
   "source": [
    "ddd['csev'] = ddd['csev']+1\n",
    "print(ddd)"
   ]
  },
  {
   "cell_type": "code",
   "execution_count": 13,
   "id": "0db2d45d-0162-46a8-9c3f-8ad3d2db40d2",
   "metadata": {},
   "outputs": [
    {
     "name": "stdout",
     "output_type": "stream",
     "text": [
      "{'csev': 2, 'cwen': 2, 'zqian': 1}\n"
     ]
    }
   ],
   "source": [
    "#When we see a new name \n",
    "\n",
    "counts = dict()\n",
    "names = ['csev', 'cwen', 'csev', 'zqian', 'cwen']\n",
    "for name in names:\n",
    "    if name not in counts:\n",
    "        counts[name] = 1\n",
    "    else:\n",
    "        counts[name] = counts[name]+1\n",
    "print(counts)"
   ]
  },
  {
   "cell_type": "markdown",
   "id": "dec9fcaa-a590-4e4c-95dd-07f1721bef1c",
   "metadata": {},
   "source": [
    "# The get method for dictionaries\n",
    "\n",
    "The pattern of checking to see if a key is already in a dictionary and assuming a default value if the key is not there is so common that there is a method called get() that does this for us."
   ]
  },
  {
   "cell_type": "code",
   "execution_count": 16,
   "id": "2898be8a-1d88-48d3-a728-d47b78933362",
   "metadata": {},
   "outputs": [
    {
     "name": "stdout",
     "output_type": "stream",
     "text": [
      "{}\n"
     ]
    }
   ],
   "source": [
    "if name in counts :\n",
    "    x = counts[name]\n",
    "else:\n",
    "    x = 0\n",
    "x = counts.get(name,0)\n",
    "print(counts)"
   ]
  },
  {
   "cell_type": "code",
   "execution_count": 17,
   "id": "bb7fe61f-8080-42b6-8888-aaac7f771b34",
   "metadata": {},
   "outputs": [
    {
     "name": "stdout",
     "output_type": "stream",
     "text": [
      "{'csev': 2, 'cwen': 2, 'zqian': 1}\n"
     ]
    }
   ],
   "source": [
    "counts = dict()\n",
    "names = ['csev', 'cwen', 'csev', 'zqian', 'cwen']\n",
    "for name in names :\n",
    "    counts[name] = counts.get(name,0)+1\n",
    "print(counts)"
   ]
  },
  {
   "cell_type": "markdown",
   "id": "bad37a4d-c70b-480f-9ea4-d540a2854fd9",
   "metadata": {},
   "source": [
    "# Definite loops and dictionaries"
   ]
  },
  {
   "cell_type": "markdown",
   "id": "d53f14d4-f15a-4e3c-ac82-bef8a2730133",
   "metadata": {},
   "source": [
    "Even though dictionaries are not stored in order, we can write a \"for\" loop that goes through all the entries in a dictionary - actually it goes through all the entries in a dictionary and lookus up the values"
   ]
  },
  {
   "cell_type": "code",
   "execution_count": 2,
   "id": "c9a7e490-db88-420f-82b3-3402d8e11440",
   "metadata": {},
   "outputs": [
    {
     "name": "stdout",
     "output_type": "stream",
     "text": [
      "chuck 1\n",
      "fred 42\n",
      "jan 100\n"
     ]
    }
   ],
   "source": [
    "counts = {'chuck' : 1, 'fred' : 42, 'jan' : 100}\n",
    "for key in counts: \n",
    "    print(key, counts[key])"
   ]
  },
  {
   "cell_type": "markdown",
   "id": "aafacbee-00ad-40bd-87ce-1b1d122b906c",
   "metadata": {},
   "source": [
    "Formulas : "
   ]
  },
  {
   "cell_type": "code",
   "execution_count": 3,
   "id": "b7d58bdf-99c9-4c11-8025-70799f332e0d",
   "metadata": {},
   "outputs": [
    {
     "name": "stdout",
     "output_type": "stream",
     "text": [
      "['chuck', 'fred', 'jan']\n"
     ]
    }
   ],
   "source": [
    "jjj = {'chuck' : 1, 'fred' : 42, 'jan' : 100}\n",
    "print(list(jjj))"
   ]
  },
  {
   "cell_type": "code",
   "execution_count": 4,
   "id": "c79beb5c-1fca-4413-b411-a7b66498a185",
   "metadata": {},
   "outputs": [
    {
     "name": "stdout",
     "output_type": "stream",
     "text": [
      "dict_keys(['chuck', 'fred', 'jan'])\n"
     ]
    }
   ],
   "source": [
    "print(jjj.keys())"
   ]
  },
  {
   "cell_type": "code",
   "execution_count": 11,
   "id": "c8fce401-e6d2-4e33-b454-166adb3b064b",
   "metadata": {},
   "outputs": [
    {
     "name": "stdout",
     "output_type": "stream",
     "text": [
      "dict_values([1, 42, 100])\n"
     ]
    }
   ],
   "source": [
    "print(jjj.values())"
   ]
  },
  {
   "cell_type": "raw",
   "id": "7d1fadb9-58cf-425d-97d2-6e7aba1da95e",
   "metadata": {},
   "source": [
    "print(jjj.items())"
   ]
  },
  {
   "cell_type": "markdown",
   "id": "d8307adb-f33e-4541-b6b8-fa0b3f1e6d2a",
   "metadata": {},
   "source": [
    "# Key value pair "
   ]
  },
  {
   "cell_type": "code",
   "execution_count": 9,
   "id": "978e0dd0-f5e2-4a55-8384-d2d18f3ac4d3",
   "metadata": {},
   "outputs": [
    {
     "name": "stdout",
     "output_type": "stream",
     "text": [
      "chuck 1\n",
      "fred 42\n",
      "jan 100\n"
     ]
    }
   ],
   "source": [
    "for aaa,bbb in jjj.items():\n",
    "    print(aaa,bbb)"
   ]
  },
  {
   "cell_type": "code",
   "execution_count": null,
   "id": "20e00e4d-753e-4a2f-9aff-c336764f886d",
   "metadata": {},
   "outputs": [],
   "source": []
  }
 ],
 "metadata": {
  "kernelspec": {
   "display_name": "Python 3 (ipykernel)",
   "language": "python",
   "name": "python3"
  },
  "language_info": {
   "codemirror_mode": {
    "name": "ipython",
    "version": 3
   },
   "file_extension": ".py",
   "mimetype": "text/x-python",
   "name": "python",
   "nbconvert_exporter": "python",
   "pygments_lexer": "ipython3",
   "version": "3.10.7"
  }
 },
 "nbformat": 4,
 "nbformat_minor": 5
}
