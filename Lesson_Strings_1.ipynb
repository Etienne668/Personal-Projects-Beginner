{
 "cells": [
  {
   "cell_type": "markdown",
   "id": "04bd809c-3366-43fe-a0ea-b98fe2fb5bd7",
   "metadata": {},
   "source": [
    "# String Data Type\n",
    "\n",
    "- A string is a sequence of characters \n",
    "- A string literal uses quotes '' or \"\"\n",
    "- For strings, + means 'concatenate'\n",
    "- When a string contains numbers, it is still a string\n",
    "- We can convert numbers in a string into a number usid int() "
   ]
  },
  {
   "cell_type": "markdown",
   "id": "1f8a77a9-af2a-4633-a78a-96e228aed66c",
   "metadata": {
    "tags": []
   },
   "source": [
    "# Reading and Converting\n",
    "\n",
    "- We prefer to read data in using strings and then parse and convert data as we need -> gives more control\n",
    "\n"
   ]
  },
  {
   "cell_type": "markdown",
   "id": "8511eb16-4343-4c8a-8969-408a29150c6f",
   "metadata": {
    "tags": []
   },
   "source": [
    "# Index operator\n",
    "\n",
    "- We can get at any single character in. astring using an index specified in square bracket '[]\n",
    "- The index value must be an integer and starts at zero\n",
    "- The index value can be an expression that is computed\n",
    "\n",
    "Message of error in case the index is > to the number of character \n",
    "\n",
    "# Strings have length\n",
    "\n",
    "- With built in function len\n",
    "\n",
    "# Looping through strings\n",
    "\n",
    "Using a while statement and an interation variable and the len function, we can construct a loop to look at each of the letters in a string individually.\n"
   ]
  },
  {
   "cell_type": "code",
   "execution_count": 2,
   "id": "b6cebacb-27d3-4297-9e1f-fa58ec1503f5",
   "metadata": {},
   "outputs": [
    {
     "name": "stdout",
     "output_type": "stream",
     "text": [
      "0 b\n",
      "1 a\n",
      "2 n\n",
      "3 a\n",
      "4 n\n",
      "5 a\n"
     ]
    }
   ],
   "source": [
    "fruit = 'banana'\n",
    "index = 0\n",
    "while index < len(fruit):\n",
    "    letter = fruit[index]\n",
    "    print(index, letter)\n",
    "    index = index +1"
   ]
  },
  {
   "cell_type": "code",
   "execution_count": 3,
   "id": "a650a9fb-0006-48b5-9eb8-0abc41782466",
   "metadata": {},
   "outputs": [
    {
     "name": "stdout",
     "output_type": "stream",
     "text": [
      "b\n",
      "a\n",
      "n\n",
      "a\n",
      "n\n",
      "a\n"
     ]
    }
   ],
   "source": [
    "fruit = 'banana'\n",
    "for letter in fruit :\n",
    "    print(letter)"
   ]
  },
  {
   "cell_type": "markdown",
   "id": "62860457-10ca-4b16-acee-2c5409e83a0b",
   "metadata": {},
   "source": [
    "# Count numbers"
   ]
  },
  {
   "cell_type": "code",
   "execution_count": 7,
   "id": "50e2c405-5420-4e7e-8fdb-20afaa6fd1fc",
   "metadata": {},
   "outputs": [
    {
     "name": "stdout",
     "output_type": "stream",
     "text": [
      "3\n"
     ]
    }
   ],
   "source": [
    "\n",
    "word = 'banana'\n",
    "count = 0\n",
    "for letter in word:\n",
    "    if letter =='a':\n",
    "        count = count + 1 \n",
    "print(count)"
   ]
  },
  {
   "cell_type": "code",
   "execution_count": 11,
   "id": "1b744513-6cf6-4a8f-8396-ac9ae37a5b86",
   "metadata": {},
   "outputs": [
    {
     "name": "stdout",
     "output_type": "stream",
     "text": [
      "b 1\n",
      "a 2\n",
      "n 3\n",
      "a 4\n",
      "n 5\n",
      "a 6\n"
     ]
    }
   ],
   "source": [
    "word = 'banana'\n",
    "count=0\n",
    "for letter in 'banana':\n",
    "    count = count + 1\n",
    "    print(letter, count)"
   ]
  },
  {
   "cell_type": "code",
   "execution_count": null,
   "id": "f96e59d0-8458-4d93-87a4-f7504054ba1c",
   "metadata": {},
   "outputs": [],
   "source": []
  }
 ],
 "metadata": {
  "kernelspec": {
   "display_name": "Python 3 (ipykernel)",
   "language": "python",
   "name": "python3"
  },
  "language_info": {
   "codemirror_mode": {
    "name": "ipython",
    "version": 3
   },
   "file_extension": ".py",
   "mimetype": "text/x-python",
   "name": "python",
   "nbconvert_exporter": "python",
   "pygments_lexer": "ipython3",
   "version": "3.10.7"
  }
 },
 "nbformat": 4,
 "nbformat_minor": 5
}
