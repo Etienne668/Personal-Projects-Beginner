{
 "cells": [
  {
   "cell_type": "markdown",
   "id": "bf3e92fc-b64f-4f27-999e-b0f91ed02bd0",
   "metadata": {},
   "source": [
    "# Using open()"
   ]
  },
  {
   "cell_type": "markdown",
   "id": "cf7c68bf-2447-4b2c-a8b1-3114e60f444d",
   "metadata": {},
   "source": [
    "- handle = open(filename, mode)\n",
    "- returns a handle use to manipulate the file\n",
    "- filename is a string\n",
    "- mode is optional and hsould be 'r' if we are planning to read the file and 'w' if we are going to write the file"
   ]
  },
  {
   "cell_type": "code",
   "execution_count": 3,
   "id": "2edbf973-9ec3-46ed-b463-297a2917e75a",
   "metadata": {},
   "outputs": [],
   "source": [
    "# The new line character"
   ]
  },
  {
   "cell_type": "markdown",
   "id": "a1facf6e-ce1e-4e11-8b5a-cb25d1944bf4",
   "metadata": {},
   "source": [
    "- We use a special character called the 'newline' to indicate when a line ends \n",
    "- We represent it as \\n in strings\n",
    "- Newline is still one character not 2"
   ]
  },
  {
   "cell_type": "code",
   "execution_count": 4,
   "id": "cfe314ad-ba4e-4e43-80eb-ce30d7b6982a",
   "metadata": {},
   "outputs": [
    {
     "data": {
      "text/plain": [
       "'Hello\\nWorld!'"
      ]
     },
     "execution_count": 4,
     "metadata": {},
     "output_type": "execute_result"
    }
   ],
   "source": [
    "stuff = 'Hello\\nWorld!'\n",
    "stuff"
   ]
  },
  {
   "cell_type": "code",
   "execution_count": 5,
   "id": "6ea3404c-8bbf-4c2f-b2f3-4e520da25d0f",
   "metadata": {},
   "outputs": [
    {
     "name": "stdout",
     "output_type": "stream",
     "text": [
      "Hello\n",
      "World!\n"
     ]
    }
   ],
   "source": [
    "print(stuff)"
   ]
  },
  {
   "cell_type": "markdown",
   "id": "3c560b19-9eb8-485c-9198-40c021422a72",
   "metadata": {},
   "source": [
    "# File Processing"
   ]
  },
  {
   "cell_type": "markdown",
   "id": "fb05171a-dca9-4feb-9afe-b4b21a61ac06",
   "metadata": {},
   "source": [
    "A text file can be thought as a sequence of each line"
   ]
  },
  {
   "cell_type": "code",
   "execution_count": 6,
   "id": "e23f0511-bbb3-4576-bc6e-467f755dfe5f",
   "metadata": {},
   "outputs": [],
   "source": [
    "# File handle as a Sequence"
   ]
  },
  {
   "cell_type": "markdown",
   "id": "1e9969d4-1da6-41e0-8b49-fc4adf5ce556",
   "metadata": {},
   "source": [
    "- A file handle open for read can be treated as a sequence of strings where each line in the file is a string in the sequence \n",
    "- We can use the 'for' statement to iterate through a sequence\n",
    "- Remember : a sequence is an ordered set "
   ]
  },
  {
   "cell_type": "code",
   "execution_count": 30,
   "id": "2e53cc3e-2258-4d74-82b3-8e717f5dc9cc",
   "metadata": {},
   "outputs": [
    {
     "name": "stdout",
     "output_type": "stream",
     "text": [
      "This is a file test.\n",
      "THIS IS THE NEW LINE\n",
      "\n",
      "If you are here, it is a success!\n"
     ]
    }
   ],
   "source": [
    "xfile = open('Test_Python_FileReading_1.txt')\n",
    "for cheese in xfile:\n",
    "    cheese = cheese.strip() #This is to remove blanks and added newlines\n",
    "    print(cheese)\n"
   ]
  },
  {
   "cell_type": "code",
   "execution_count": 9,
   "id": "712b60c8-7431-4ceb-a154-43e5335ea475",
   "metadata": {},
   "outputs": [],
   "source": [
    "# Count the number of lines in a file"
   ]
  },
  {
   "cell_type": "code",
   "execution_count": 11,
   "id": "dfcc784f-e423-4b64-8242-3f3f6594d6e2",
   "metadata": {},
   "outputs": [
    {
     "name": "stdout",
     "output_type": "stream",
     "text": [
      "Line Count: 4\n"
     ]
    }
   ],
   "source": [
    "fhand = open('Test_Python_FileReading_1.txt')\n",
    "count = 0 \n",
    "for line in fhand:\n",
    "    count = count+1\n",
    "print('Line Count:', count)"
   ]
  },
  {
   "cell_type": "code",
   "execution_count": 12,
   "id": "e9909db5-fdc4-45a6-9a23-cb15088b2dd5",
   "metadata": {},
   "outputs": [],
   "source": [
    "# Reading the *Whole* File"
   ]
  },
  {
   "cell_type": "code",
   "execution_count": 13,
   "id": "d5baee77-5c05-4b39-bb31-5cd78ff15bc2",
   "metadata": {},
   "outputs": [
    {
     "name": "stdout",
     "output_type": "stream",
     "text": [
      "77\n"
     ]
    }
   ],
   "source": [
    "fhand = open('Test_Python_FileReading_1.txt')\n",
    "inp = fhand.read()\n",
    "print(len(inp))"
   ]
  },
  {
   "cell_type": "code",
   "execution_count": 14,
   "id": "c785eab6-9fb5-4234-9ad7-741e4a762bbf",
   "metadata": {},
   "outputs": [
    {
     "name": "stdout",
     "output_type": "stream",
     "text": [
      "This is a file test.\n"
     ]
    }
   ],
   "source": [
    "print(inp[:20])"
   ]
  },
  {
   "cell_type": "code",
   "execution_count": 15,
   "id": "3a760094-ad31-4461-bc42-0e81e0e98bdc",
   "metadata": {},
   "outputs": [],
   "source": [
    "#Searching through a file"
   ]
  },
  {
   "cell_type": "markdown",
   "id": "a51ef7d0-5124-4e43-bcd0-ce3d0d61a569",
   "metadata": {},
   "source": [
    "We can put an if statement in our for loop to only print lines that meet some criteria"
   ]
  },
  {
   "cell_type": "code",
   "execution_count": 28,
   "id": "5c809ef9-3af9-4dfc-91f6-b467cd291e53",
   "metadata": {},
   "outputs": [
    {
     "name": "stdout",
     "output_type": "stream",
     "text": [
      "This is a file test.\n",
      "\n"
     ]
    }
   ],
   "source": [
    "fhand = open('Test_Python_FileReading_1.txt')\n",
    "\n",
    "for line in fhand :\n",
    "    if line.startswith('This'):\n",
    "\n",
    "        print(line)"
   ]
  },
  {
   "cell_type": "code",
   "execution_count": 32,
   "id": "044b2ee3-fbfc-45e0-a8cd-9cf60827deb9",
   "metadata": {},
   "outputs": [
    {
     "name": "stdout",
     "output_type": "stream",
     "text": [
      "this is a file test.\n",
      "this is the new line\n"
     ]
    }
   ],
   "source": [
    "# Same with lower case\n",
    "\n",
    "fhand = open('Test_Python_FileReading_1.txt')\n",
    "\n",
    "for line in fhand :\n",
    "    line = line.lower() #This is to make sure I filter without take the case into account\n",
    "    line = line.strip()\n",
    "    if line.startswith('this'):\n",
    "\n",
    "        print(line)"
   ]
  },
  {
   "cell_type": "code",
   "execution_count": 36,
   "id": "6e4cb1c4-acfc-4af6-9035-81e03ba62ff9",
   "metadata": {},
   "outputs": [],
   "source": [
    "#2nd method to search in files - Skipping with Continue"
   ]
  },
  {
   "cell_type": "markdown",
   "id": "9ba3e144-a838-4861-b0ce-6f32cbd865e8",
   "metadata": {},
   "source": [
    "We can conveniently skip a line by using the continue statement"
   ]
  },
  {
   "cell_type": "code",
   "execution_count": 35,
   "id": "d4b21f3e-2396-4f42-818d-2222ed573d8a",
   "metadata": {},
   "outputs": [
    {
     "name": "stdout",
     "output_type": "stream",
     "text": [
      "this is a file test.\n",
      "this is the new line\n"
     ]
    }
   ],
   "source": [
    "fhand = open('Test_Python_FileReading_1.txt')\n",
    "for line in fhand:\n",
    "    line = line.lower()\n",
    "    line = line.strip()\n",
    "    if not line.startswith('this'):\n",
    "        continue\n",
    "    print(line)"
   ]
  },
  {
   "cell_type": "code",
   "execution_count": 39,
   "id": "a60daa98-da46-4ab8-9719-122ec804d9fd",
   "metadata": {},
   "outputs": [
    {
     "name": "stdin",
     "output_type": "stream",
     "text": [
      "Enter the file name:  Test_Python_FileReading_1.txt\n"
     ]
    },
    {
     "name": "stdout",
     "output_type": "stream",
     "text": [
      "There were 2 subject lines in Test_Python_FileReading_1.txt\n"
     ]
    }
   ],
   "source": [
    "fname = input('Enter the file name: ')\n",
    "fhand = open(fname) \n",
    "count = 0\n",
    "for line in fhand :\n",
    "    line = line.lower()\n",
    "    line = line.strip()\n",
    "    if line.startswith('this'):\n",
    "        count = count + 1 \n",
    "print('There were', count, 'subject lines in', fname)"
   ]
  },
  {
   "cell_type": "code",
   "execution_count": 40,
   "id": "50333be1-975f-49e7-a59f-338e66a5c4e3",
   "metadata": {},
   "outputs": [],
   "source": [
    "# Bad Files Names"
   ]
  },
  {
   "cell_type": "code",
   "execution_count": null,
   "id": "9f58ec86-3ced-42ce-a7bf-ce2f3a654284",
   "metadata": {},
   "outputs": [],
   "source": []
  }
 ],
 "metadata": {
  "kernelspec": {
   "display_name": "Python 3 (ipykernel)",
   "language": "python",
   "name": "python3"
  },
  "language_info": {
   "codemirror_mode": {
    "name": "ipython",
    "version": 3
   },
   "file_extension": ".py",
   "mimetype": "text/x-python",
   "name": "python",
   "nbconvert_exporter": "python",
   "pygments_lexer": "ipython3",
   "version": "3.10.7"
  }
 },
 "nbformat": 4,
 "nbformat_minor": 5
}
